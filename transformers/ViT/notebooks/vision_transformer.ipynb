{
 "cells": [
  {
   "cell_type": "markdown",
   "metadata": {},
   "source": [
    "# Vision Transformer (ViT) Implementation Using Pytorch\n",
    "\n",
    "This notebook demonstrates the implementation of a Vision Transformer (ViT) from scratch using PyTorch. The Vision Transformer is a model for image classification that leverages the Transformer architecture, which has been highly successful in natural language processing tasks.\n",
    "\n",
    "We will be using the CIFAR-10 dataset for training and evaluating our model. The CIFAR-10 dataset consists of 60,000 32x32 color images in 10 different classes, with 6,000 images per class. The dataset is divided into 50,000 training images and 10,000 test images.\n",
    "\n",
    "The implementation includes the following components:\n",
    "- **Patcher**: Divides the input image into smaller patches.\n",
    "- **LinearProjectionFlatten**: Projects the patches into a higher-dimensional space.\n",
    "- **PositionalEncoder**: Adds positional information to the patches.\n",
    "- **SelfAttention**: Implements the self-attention mechanism.\n",
    "- **AttentionBlock**: Combines self-attention with linear projections.\n",
    "- **TransformerEncoder**: Stacks multiple attention blocks with normalization and feed-forward layers.\n",
    "- **MLPHead**: A simple feed-forward network for final classification.\n",
    "- **VisionTransformer**: Combines all components to form the complete Vision Transformer model.\n",
    "\n",
    "The model is trained on the CIFAR-10 dataset for 10 epochs using the Adam optimizer and cross-entropy loss. The training loss is plotted to visualize the training process, and the model's prediction for a sample image is compared with the true label."
   ]
  },
  {
   "cell_type": "markdown",
   "metadata": {},
   "source": [
    "### Import libraries"
   ]
  },
  {
   "cell_type": "code",
   "execution_count": 1,
   "metadata": {},
   "outputs": [],
   "source": [
    "from tqdm import tqdm\n",
    "\n",
    "import numpy as np\n",
    "\n",
    "import matplotlib.pyplot as plt\n",
    "\n",
    "import torch\n",
    "import torch.nn as nn\n",
    "import torch.nn.functional as F\n",
    "from torch import Tensor\n",
    "from torch.utils.data import DataLoader\n",
    "from torchvision.datasets import MNIST, CIFAR10\n",
    "from torchvision.transforms import transforms\n",
    "from einops import rearrange"
   ]
  },
  {
   "cell_type": "markdown",
   "metadata": {},
   "source": [
    "## Prepare the Data (Cifar10)"
   ]
  },
  {
   "cell_type": "code",
   "execution_count": 2,
   "metadata": {},
   "outputs": [],
   "source": [
    "# A simple transform for data since real focus is on ViT\n",
    "transform = transforms.Compose([\n",
    "    transforms.ToTensor()\n",
    "])\n",
    "\n",
    "# One-hot encoding the target labels\n",
    "def one_hot_encode(label):\n",
    "    return F.one_hot(torch.tensor(label), num_classes=10).float()\n",
    "\n",
    "train_dataset = CIFAR10(\n",
    "    root='../../../datasets',\n",
    "    train=True,\n",
    "    download=False, # Download the dataset if it does not exist\n",
    "    transform=transform,\n",
    "    target_transform=one_hot_encode\n",
    ")\n",
    "\n",
    "test_dataset = CIFAR10(\n",
    "    root='../../../datasets',\n",
    "    train=False,\n",
    "    download=False, # Download the dataset if it does not exist\n",
    "    transform=transform,\n",
    "    target_transform=one_hot_encode\n",
    ")"
   ]
  },
  {
   "cell_type": "code",
   "execution_count": 3,
   "metadata": {},
   "outputs": [],
   "source": [
    "train_dataloader = DataLoader(train_dataset, batch_size=256, shuffle=True)\n",
    "test_dataloader = DataLoader(test_dataset, batch_size=256, shuffle=True)"
   ]
  },
  {
   "cell_type": "markdown",
   "metadata": {},
   "source": [
    "In this notebook, we will implement the Vision Transformer (ViT) architecture as described in its original paper: [\"An Image is Worth 16x16 Words: Transformers for Image Recognition at Scale\"](https://arxiv.org/abs/2010.11929).\n",
    "\n",
    "![Vision Transformer](ViT_Image_paper.png)\n"
   ]
  },
  {
   "cell_type": "markdown",
   "metadata": {},
   "source": [
    "### Patcher\n",
    "\n",
    "The `Patcher` class is responsible for dividing the input image into smaller patches. Each patch is then flattened into a vector."
   ]
  },
  {
   "cell_type": "code",
   "execution_count": 4,
   "metadata": {},
   "outputs": [],
   "source": [
    "class Patcher(nn.Module):\n",
    "    def __init__(self, patch_size=16, embed_dim=512):\n",
    "        super().__init__()\n",
    "        self.patch_size = patch_size\n",
    "        self.embed_dim = embed_dim\n",
    "\n",
    "    def forward(self, x: Tensor):\n",
    "        # Batch size, Num patches, Flatten features\n",
    "        patches = rearrange(x, 'b c (h p1) (w p2) -> b (h w) (p1 p2 c)', p1=self.patch_size, p2=self.patch_size)\n",
    "        return patches"
   ]
  },
  {
   "cell_type": "markdown",
   "metadata": {},
   "source": [
    "### LinearProjectionFlatten\n",
    "\n",
    "The `LinearProjectionFlatten` class takes the patches created by the `Patcher` and projects them into a higher-dimensional space using a linear layer."
   ]
  },
  {
   "cell_type": "code",
   "execution_count": 5,
   "metadata": {},
   "outputs": [],
   "source": [
    "class LinearProjectionFlatten(nn.Module):\n",
    "    def __init__(self, patcher: Patcher, num_channels=3):\n",
    "        super().__init__()\n",
    "        self.patcher: Patcher = patcher\n",
    "        self.patch_embedding = nn.Linear(num_channels * patcher.patch_size ** 2, patcher.embed_dim)\n",
    "\n",
    "    def forward(self, x: Tensor):\n",
    "        patches = self.patcher(x)\n",
    "        embedded_patches = self.patch_embedding(patches)\n",
    "        return embedded_patches"
   ]
  },
  {
   "cell_type": "markdown",
   "metadata": {},
   "source": [
    "### PositionalEncoder\n",
    "\n",
    "The `PositionalEncoder` class adds positional information to the patches, which helps the model understand the order of the patches."
   ]
  },
  {
   "cell_type": "code",
   "execution_count": 6,
   "metadata": {},
   "outputs": [],
   "source": [
    "class PositionalEncoder(nn.Module):\n",
    "    def __init__(self, embed_dim=512, seq_len=5000):\n",
    "        super().__init__()\n",
    "        self.embed_dim = embed_dim\n",
    "\n",
    "        position = torch.arange(0, seq_len).unsqueeze(1).float()\n",
    "        div_term = torch.exp(torch.arange(0, embed_dim, 2).float() * -(np.log(10000.0) / embed_dim))\n",
    "\n",
    "        pe = torch.zeros(seq_len, embed_dim)\n",
    "        pe[:, 0::2] = torch.sin(position * div_term)\n",
    "        pe[:, 1::2] = torch.cos(position * div_term)\n",
    "\n",
    "        # Using buffer to tell pytorch this is not learnable\n",
    "        self.register_buffer('pe', pe)\n",
    "\n",
    "    def forward(self, x: Tensor):\n",
    "        seq_len = x.size(1)\n",
    "\n",
    "        x = x + self.pe[:seq_len, :].unsqueeze(dim=0)\n",
    "\n",
    "        return x"
   ]
  },
  {
   "cell_type": "markdown",
   "metadata": {},
   "source": [
    "### SelfAttention\n",
    "\n",
    "The `SelfAttention` class implements the self-attention mechanism, which allows the model to focus on different parts of the input sequence."
   ]
  },
  {
   "cell_type": "code",
   "execution_count": 7,
   "metadata": {},
   "outputs": [],
   "source": [
    "class SelfAttention(nn.Module):\n",
    "    def __init__(self):\n",
    "        super().__init__()\n",
    "\n",
    "    def calculate_QKT(self, queries: Tensor, keys: Tensor):\n",
    "        return torch.bmm(queries, keys.transpose(1, 2)) / np.sqrt(queries.shape[-1])\n",
    " \n",
    "    def forward(self, queries: Tensor, keys: Tensor, values: Tensor, \n",
    "                batch_size: int, seq_len: int, embed_dim: int, n_head: int):\n",
    "        \n",
    "        keys = keys.transpose(1, 2).contiguous().view(batch_size * n_head, seq_len, embed_dim)\n",
    "        queries = queries.transpose(1, 2).contiguous().view(batch_size * n_head, seq_len, embed_dim)\n",
    "        values = values.transpose(1, 2).contiguous().view(batch_size * n_head, seq_len, embed_dim)\n",
    "\n",
    "        QKT = self.calculate_QKT(queries, keys)\n",
    "        scores = F.softmax(QKT, dim=2)\n",
    "        attention: Tensor = torch.bmm(scores, values).view(batch_size, n_head, seq_len, embed_dim)\n",
    "        attention = attention.transpose(1, 2).contiguous().view(batch_size, seq_len, embed_dim * n_head)\n",
    "        return attention"
   ]
  },
  {
   "cell_type": "markdown",
   "metadata": {},
   "source": [
    "### AttentionBlock\n",
    "\n",
    "The `AttentionBlock` class combines the self-attention mechanism with linear projections to form a complete attention block."
   ]
  },
  {
   "cell_type": "code",
   "execution_count": 8,
   "metadata": {},
   "outputs": [],
   "source": [
    "class AttentionBlock(nn.Module):\n",
    "    def __init__(self, embed_dim=512, n_head=8):\n",
    "        super().__init__()\n",
    "        self.embed_dim = embed_dim\n",
    "        self.n_head = n_head\n",
    "\n",
    "        # W for queries\n",
    "        self.Wq = nn.Linear(embed_dim, embed_dim * n_head, bias=False)\n",
    "        # W for keys\n",
    "        self.Wk = nn.Linear(embed_dim, embed_dim * n_head, bias=False)\n",
    "        # W for values\n",
    "        self.Wv = nn.Linear(embed_dim, embed_dim * n_head, bias=False)\n",
    "        # W for final results\n",
    "        self.Wr = nn.Linear(embed_dim * n_head, embed_dim)\n",
    "\n",
    "        self.attention = SelfAttention()\n",
    "\n",
    "    def forward(self, x: Tensor):\n",
    "        n_head = self.n_head\n",
    "        batch_size, seq_len, embed_dim = x.size()\n",
    "\n",
    "        queries = self.Wq(x).view(batch_size, seq_len, n_head, embed_dim)\n",
    "        keys = self.Wk(x).view(batch_size, seq_len, n_head, embed_dim)\n",
    "        values = self.Wv(x).view(batch_size, seq_len, n_head, embed_dim)\n",
    "\n",
    "        result = self.attention(queries, keys, values, batch_size,\n",
    "                                seq_len, embed_dim, n_head)\n",
    "        \n",
    "        return self.Wr(result)"
   ]
  },
  {
   "cell_type": "markdown",
   "metadata": {},
   "source": [
    "### TransformerEncoder\n",
    "\n",
    "The `TransformerEncoder` class stacks multiple attention blocks and adds normalization and feed-forward layers."
   ]
  },
  {
   "cell_type": "code",
   "execution_count": 9,
   "metadata": {},
   "outputs": [],
   "source": [
    "class TransformerEncoder(nn.Module):\n",
    "    def __init__(self, embed_dim=512, n_head=8):\n",
    "        super().__init__()\n",
    "\n",
    "        self.attention = AttentionBlock(embed_dim, n_head)\n",
    "\n",
    "        self.norm1 = nn.LayerNorm(embed_dim)\n",
    "        self.norm2 = nn.LayerNorm(embed_dim)\n",
    "\n",
    "        hidden_size = embed_dim * 2\n",
    "        self.mlp = nn.Sequential(\n",
    "            nn.Linear(embed_dim, hidden_size),\n",
    "            nn.ReLU(),\n",
    "            nn.Linear(hidden_size, embed_dim)\n",
    "        )\n",
    "\n",
    "    def forward(self, x: Tensor):\n",
    "        sc = self.attention(x) # First skip connection\n",
    "        x = self.norm1(x + sc)\n",
    "        sc = self.mlp(x)\n",
    "        out = self.norm2(x + sc) # Second skip connection\n",
    "        return out"
   ]
  },
  {
   "cell_type": "markdown",
   "metadata": {},
   "source": [
    "### MLPHead\n",
    "\n",
    "The `MLPHead` class is a simple feed-forward network that produces the final classification logits."
   ]
  },
  {
   "cell_type": "code",
   "execution_count": 10,
   "metadata": {},
   "outputs": [],
   "source": [
    "class MLPHead(nn.Module):\n",
    "    def __init__(self, n_classes, embed_dim=512):\n",
    "        super().__init__()\n",
    "\n",
    "        self.layers = nn.Sequential(\n",
    "            nn.Linear(embed_dim, n_classes)\n",
    "        )\n",
    "\n",
    "    def forward(self, x: Tensor):\n",
    "        x_pool = x.mean(dim=1)\n",
    "        \n",
    "        logits = self.layers(x_pool)\n",
    "        \n",
    "        return logits"
   ]
  },
  {
   "cell_type": "markdown",
   "metadata": {},
   "source": [
    "### VisionTransformer\n",
    "\n",
    "The `VisionTransformer` class combines all the components to form the complete Vision Transformer model."
   ]
  },
  {
   "cell_type": "code",
   "execution_count": 11,
   "metadata": {},
   "outputs": [],
   "source": [
    "class VisionTransformer(nn.Module):\n",
    "    def __init__(self, n_classes, patch_size=16, seq_len=5000, n_head=8, embed_dim=512, num_channels=3, n_transformers=6):\n",
    "        super().__init__()\n",
    "\n",
    "        patcher = Patcher(patch_size, embed_dim)\n",
    "        self.linear_flatter = LinearProjectionFlatten(patcher, num_channels)\n",
    "\n",
    "        self.positional_encoding = PositionalEncoder(embed_dim, seq_len)\n",
    "\n",
    "        transformer_encoders = [TransformerEncoder(embed_dim, n_head) for _ in range(n_transformers)]\n",
    "        self.transformers = nn.Sequential(*transformer_encoders)\n",
    "\n",
    "        self.mlp_head = MLPHead(n_classes, embed_dim)\n",
    "\n",
    "    def forward(self, x: Tensor):\n",
    "        flatten = self.linear_flatter(x)\n",
    "        \n",
    "        positional_encoded = self.positional_encoding(flatten)\n",
    "\n",
    "        transform = self.transformers(positional_encoded)\n",
    "        return self.mlp_head(transform)"
   ]
  },
  {
   "cell_type": "markdown",
   "metadata": {},
   "source": [
    "### Set device"
   ]
  },
  {
   "cell_type": "code",
   "execution_count": 12,
   "metadata": {},
   "outputs": [
    {
     "data": {
      "text/plain": [
       "'cuda'"
      ]
     },
     "execution_count": 12,
     "metadata": {},
     "output_type": "execute_result"
    }
   ],
   "source": [
    "device = 'cuda' if torch.cuda.is_available() else 'cpu'\n",
    "device"
   ]
  },
  {
   "cell_type": "markdown",
   "metadata": {},
   "source": [
    "## Training the Model\n",
    "\n",
    "The model is trained on the CIFAR-10 dataset for 10 epochs using the Adam optimizer and cross-entropy loss."
   ]
  },
  {
   "cell_type": "code",
   "execution_count": null,
   "metadata": {},
   "outputs": [
    {
     "name": "stderr",
     "output_type": "stream",
     "text": [
      " 10%|█         | 1/10 [00:39<05:54, 39.39s/it]"
     ]
    },
    {
     "name": "stdout",
     "output_type": "stream",
     "text": [
      "Epoch 1, Train Loss: 1.9835, Test Loss: 1.9835\n"
     ]
    },
    {
     "name": "stderr",
     "output_type": "stream",
     "text": [
      " 20%|██        | 2/10 [01:14<04:54, 36.84s/it]"
     ]
    },
    {
     "name": "stdout",
     "output_type": "stream",
     "text": [
      "Epoch 2, Train Loss: 1.6130, Test Loss: 1.6130\n"
     ]
    },
    {
     "name": "stderr",
     "output_type": "stream",
     "text": [
      " 30%|███       | 3/10 [01:50<04:14, 36.33s/it]"
     ]
    },
    {
     "name": "stdout",
     "output_type": "stream",
     "text": [
      "Epoch 3, Train Loss: 1.4168, Test Loss: 1.4168\n"
     ]
    },
    {
     "name": "stderr",
     "output_type": "stream",
     "text": [
      " 40%|████      | 4/10 [02:24<03:33, 35.55s/it]"
     ]
    },
    {
     "name": "stdout",
     "output_type": "stream",
     "text": [
      "Epoch 4, Train Loss: 1.3080, Test Loss: 1.3080\n"
     ]
    },
    {
     "name": "stderr",
     "output_type": "stream",
     "text": [
      " 50%|█████     | 5/10 [03:05<03:06, 37.39s/it]"
     ]
    },
    {
     "name": "stdout",
     "output_type": "stream",
     "text": [
      "Epoch 5, Train Loss: 1.2195, Test Loss: 1.2195\n"
     ]
    },
    {
     "name": "stderr",
     "output_type": "stream",
     "text": [
      " 60%|██████    | 6/10 [03:40<02:27, 36.85s/it]"
     ]
    },
    {
     "name": "stdout",
     "output_type": "stream",
     "text": [
      "Epoch 6, Train Loss: 1.1562, Test Loss: 1.1562\n"
     ]
    },
    {
     "name": "stderr",
     "output_type": "stream",
     "text": [
      " 70%|███████   | 7/10 [04:20<01:53, 37.76s/it]"
     ]
    },
    {
     "name": "stdout",
     "output_type": "stream",
     "text": [
      "Epoch 7, Train Loss: 1.0930, Test Loss: 1.0930\n"
     ]
    },
    {
     "name": "stderr",
     "output_type": "stream",
     "text": [
      " 80%|████████  | 8/10 [05:03<01:18, 39.36s/it]"
     ]
    },
    {
     "name": "stdout",
     "output_type": "stream",
     "text": [
      "Epoch 8, Train Loss: 1.0371, Test Loss: 1.0371\n"
     ]
    },
    {
     "name": "stderr",
     "output_type": "stream",
     "text": [
      " 90%|█████████ | 9/10 [05:38<00:37, 37.91s/it]"
     ]
    },
    {
     "name": "stdout",
     "output_type": "stream",
     "text": [
      "Epoch 9, Train Loss: 0.9898, Test Loss: 0.9898\n"
     ]
    },
    {
     "name": "stderr",
     "output_type": "stream",
     "text": [
      " 90%|█████████ | 9/10 [05:44<00:38, 38.25s/it]\n"
     ]
    },
    {
     "ename": "KeyboardInterrupt",
     "evalue": "",
     "output_type": "error",
     "traceback": [
      "\u001b[1;31m---------------------------------------------------------------------------\u001b[0m",
      "\u001b[1;31mKeyboardInterrupt\u001b[0m                         Traceback (most recent call last)",
      "Cell \u001b[1;32mIn[13], line 28\u001b[0m\n\u001b[0;32m     25\u001b[0m     optimizer\u001b[38;5;241m.\u001b[39mstep()\n\u001b[0;32m     26\u001b[0m     optimizer\u001b[38;5;241m.\u001b[39mzero_grad()\n\u001b[1;32m---> 28\u001b[0m     epoch_loss_train \u001b[38;5;241m+\u001b[39m\u001b[38;5;241m=\u001b[39m \u001b[43mloss\u001b[49m\u001b[38;5;241;43m.\u001b[39;49m\u001b[43mitem\u001b[49m\u001b[43m(\u001b[49m\u001b[43m)\u001b[49m\n\u001b[0;32m     30\u001b[0m \u001b[38;5;66;03m# Using test dataset as validation dataset\u001b[39;00m\n\u001b[0;32m     31\u001b[0m epoch_loss_test \u001b[38;5;241m=\u001b[39m \u001b[38;5;241m0\u001b[39m\n",
      "\u001b[1;31mKeyboardInterrupt\u001b[0m: "
     ]
    }
   ],
   "source": [
    "model = VisionTransformer(n_classes=10, patch_size=4, seq_len=5000, n_head=8,\n",
    "                        embed_dim=50, num_channels=3, n_transformers=6).to(device)\n",
    "loss_fn = nn.CrossEntropyLoss()\n",
    "optimizer = torch.optim.Adam(model.parameters(), lr=1e-3)\n",
    "\n",
    "epochs = 10\n",
    "\n",
    "train_losses = []\n",
    "test_losses = []\n",
    "\n",
    "for epoch in tqdm(range(epochs)):  \n",
    "    num_batches = len(train_dataloader)\n",
    "\n",
    "    epoch_loss_train = 0\n",
    "    model.train()\n",
    "\n",
    "    for img, label in train_dataloader:\n",
    "        img: Tensor = img.to(device)\n",
    "        label: Tensor = label.to(device)\n",
    "\n",
    "        logits: Tensor = model(img)\n",
    "        loss: Tensor = loss_fn(logits, label)\n",
    "\n",
    "        loss.backward()\n",
    "        optimizer.step()\n",
    "        optimizer.zero_grad()\n",
    "\n",
    "        epoch_loss_train += loss.item()\n",
    "\n",
    "    # Using test dataset as validation dataset\n",
    "    epoch_loss_test = 0\n",
    "\n",
    "    model.eval()\n",
    "    with torch.no_grad():\n",
    "        for img, label in test_dataloader:\n",
    "            img: Tensor = img.to(device)\n",
    "            label: Tensor = label.to(device)\n",
    "\n",
    "            logits: Tensor = model(img)\n",
    "            loss: Tensor = loss_fn(logits, label)\n",
    "\n",
    "            epoch_loss_test = loss.item()\n",
    "\n",
    "    epoch_loss_train /= num_batches\n",
    "    epoch_loss_test /= num_batches\n",
    "    train_losses.append(epoch_loss_train)\n",
    "    test_losses.append(epoch_loss_test)\n",
    "\n",
    "    print(f\"Epoch {epoch+1}, Train Loss: {epoch_loss_train:.4f}, Test Loss: {epoch_loss_test:.4f}\")"
   ]
  },
  {
   "cell_type": "code",
   "execution_count": 44,
   "metadata": {},
   "outputs": [
    {
     "data": {
      "image/png": "[encoded data removed]",
      "text/plain": [
       "<Figure size 640x480 with 1 Axes>"
      ]
     },
     "metadata": {},
     "output_type": "display_data"
    }
   ],
   "source": [
    "plt.plot(range(1, len(range(epochs)) + 1), train_losses, label='train', color='blue')\n",
    "plt.plot(range(1, len(range(epochs)) + 1), test_losses, label='test', color='orange')\n",
    "plt.legend()\n",
    "plt.title('Loss for epoch')\n",
    "plt.xticks(range(1, epochs + 1))\n",
    "plt.xlabel('epochs')\n",
    "plt.ylabel('loss')\n",
    "plt.show()"
   ]
  }
 ],
 "metadata": {
  "kernelspec": {
   "display_name": "Python 3",
   "language": "python",
   "name": "python3"
  },
  "language_info": {
   "codemirror_mode": {
    "name": "ipython",
    "version": 3
   },
   "file_extension": ".py",
   "mimetype": "text/x-python",
   "name": "python",
   "nbconvert_exporter": "python",
   "pygments_lexer": "ipython3",
   "version": "3.11.5"
  }
 },
 "nbformat": 4,
 "nbformat_minor": 2
}
