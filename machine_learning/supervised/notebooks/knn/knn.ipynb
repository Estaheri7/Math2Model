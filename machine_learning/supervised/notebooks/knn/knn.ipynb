{
 "cells": [
  {
   "cell_type": "markdown",
   "metadata": {},
   "source": [
    "# K-Nearest Neighbors (KNN)\n",
    "\n",
    "The **K-Nearest Neighbors (KNN)** algorithm is a simple, yet powerful supervised learning algorithm used for both **classification** and **regression** tasks. It operates based on the principle of proximity: the prediction for a new input is made based on the outputs of the *k* closest data points in the training set.\n",
    "\n",
    "## How KNN Works\n",
    "\n",
    "Given a test sample, the algorithm follows these steps:\n",
    "\n",
    "1. **Compute the distance** between the test sample and all training samples.\n",
    "2. **Select the k-nearest neighbors** (based on distance).\n",
    "3. **Aggregate the output** values from the nearest neighbors:\n",
    "   - For **classification**, predict the **most frequent class** (majority vote).\n",
    "   - For **regression**, predict the **mean** of the neighbor outputs.\n",
    "\n",
    "## Distance Metric\n",
    "\n",
    "KNN typically uses **Euclidean distance**:\n",
    "\n",
    "$$\n",
    "d(\\mathbf{x}, \\mathbf{x}') = \\sqrt{\\sum_{i=1}^{n}(x_i - x'_i)^2}\n",
    "$$\n",
    "\n",
    "Where:\n",
    "- $\\mathbf{x}$ is the new (test) point,\n",
    "- $\\mathbf{x}$ is a point from the training data,\n",
    "- `n` is the number of features.\n",
    "\n",
    "Other distance metrics such as Manhattan or Minkowski can also be used.\n",
    "\n",
    "## Advantages\n",
    "- Simple and intuitive.\n",
    "- No training phase (lazy learning).\n",
    "- Naturally handles multi-class classification.\n",
    "\n",
    "## Disadvantages\n",
    "- Slow inference for large datasets (requires distance computation to all training samples).\n",
    "- Performance is sensitive to the choice of \\( k \\) and the distance metric.\n",
    "- Doesn't perform well on high-dimensional data (curse of dimensionality)."
   ]
  },
  {
   "cell_type": "markdown",
   "metadata": {},
   "source": [
    "## Import libraries"
   ]
  },
  {
   "cell_type": "code",
   "execution_count": null,
   "metadata": {},
   "outputs": [],
   "source": [
    "import numpy as np\n",
    "from scipy.stats import mode"
   ]
  },
  {
   "cell_type": "code",
   "execution_count": null,
   "metadata": {},
   "outputs": [],
   "source": [
    "class KNN:\n",
    "    def __init__(self, n_neighbors=3, kind='classification'):\n",
    "        \"\"\"\n",
    "        Initializes the KNN model.\n",
    "\n",
    "        Parameters:\n",
    "        - n_neighbors (int): Number of nearest neighbors to use.\n",
    "        - kind (str): Type of prediction task, either 'classification' or 'regression'.\n",
    "        \"\"\"\n",
    "        self.data = None\n",
    "        self.y = None\n",
    "        self.labels = None\n",
    "        self.n_neighbors = n_neighbors\n",
    "        self.kind = kind\n",
    "\n",
    "    def fit(self, X: np.ndarray, y: np.ndarray):\n",
    "        \"\"\"\n",
    "        Stores the training data and target values.\n",
    "\n",
    "        Parameters:\n",
    "        - X (np.ndarray): Training feature matrix of shape (n_samples, n_features).\n",
    "        - y (np.ndarray): Target values or class labels of shape (n_samples,).\n",
    "        \"\"\"\n",
    "        self.data = X\n",
    "        self.y = y\n",
    "    \n",
    "    def predict(self, X: np.ndarray):\n",
    "        \"\"\"\n",
    "        Predicts target values for the given input samples.\n",
    "\n",
    "        Parameters:\n",
    "        - X (np.ndarray): Test data of shape (n_samples_test, n_features).\n",
    "\n",
    "        Returns:\n",
    "        - np.ndarray: Predicted class labels or regression values.\n",
    "        \"\"\"\n",
    "        diff = np.linalg.norm(X[:, np.newaxis] - self.data, axis=2)\n",
    "        k_nearest = np.argpartition(diff, self.n_neighbors, axis=1)[:, :self.n_neighbors]\n",
    "        self.labels = self.y[k_nearest]\n",
    "        if self.kind == 'classification':\n",
    "            return mode(self.labels, axis=1).mode\n",
    "        # Handling regression case\n",
    "        return np.mean(self.labels, axis=1)\n"
   ]
  }
 ],
 "metadata": {
  "kernelspec": {
   "display_name": "Python 3",
   "language": "python",
   "name": "python3"
  },
  "language_info": {
   "codemirror_mode": {
    "name": "ipython",
    "version": 3
   },
   "file_extension": ".py",
   "mimetype": "text/x-python",
   "name": "python",
   "nbconvert_exporter": "python",
   "pygments_lexer": "ipython3",
   "version": "3.12.3"
  }
 },
 "nbformat": 4,
 "nbformat_minor": 2
}
