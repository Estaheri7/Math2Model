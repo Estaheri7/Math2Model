{
 "cells": [
  {
   "cell_type": "code",
   "execution_count": 3,
   "metadata": {},
   "outputs": [],
   "source": [
    "import numpy as np\n",
    "\n",
    "import matplotlib.pyplot as plt\n",
    "\n",
    "import torch\n",
    "import torch.nn as nn\n",
    "from torchvision import datasets, transforms\n",
    "from torch.utils.data import DataLoader"
   ]
  },
  {
   "cell_type": "code",
   "execution_count": 4,
   "metadata": {},
   "outputs": [
    {
     "data": {
      "text/plain": [
       "'cuda'"
      ]
     },
     "execution_count": 4,
     "metadata": {},
     "output_type": "execute_result"
    }
   ],
   "source": [
    "device = ('cuda' if torch.cuda.is_available() else 'cpu')\n",
    "device"
   ]
  },
  {
   "cell_type": "code",
   "execution_count": 128,
   "metadata": {},
   "outputs": [],
   "source": [
    "train_transform = transforms.Compose([\n",
    "    transforms.RandomVerticalFlip(),\n",
    "    transforms.RandomAutocontrast(),\n",
    "    transforms.ToTensor()\n",
    "])\n",
    "\n",
    "data_train = datasets.CIFAR10(\n",
    "    root='../data',\n",
    "    train=True,\n",
    "    download=False,\n",
    "    transform=train_transform\n",
    ")\n",
    "\n",
    "data_test = datasets.CIFAR10(\n",
    "    root='../data',\n",
    "    train=False,\n",
    "    download=False,\n",
    "    transform=transforms.ToTensor()\n",
    ")"
   ]
  },
  {
   "cell_type": "code",
   "execution_count": 129,
   "metadata": {},
   "outputs": [],
   "source": [
    "train_loader = DataLoader(data_train, batch_size=16, shuffle=True)\n",
    "test_loader = DataLoader(data_test, batch_size=16, shuffle=True)"
   ]
  },
  {
   "cell_type": "code",
   "execution_count": 130,
   "metadata": {},
   "outputs": [],
   "source": [
    "def transform_to_gray(image: torch.Tensor):\n",
    "    if len == 3:\n",
    "        image = image.unsqueeze(dim=0)\n",
    "    gray_transform = transforms.Grayscale(1)\n",
    "    return gray_transform(image)"
   ]
  },
  {
   "cell_type": "code",
   "execution_count": 131,
   "metadata": {},
   "outputs": [],
   "source": [
    "class ResidualBlock(nn.Module):\n",
    "    def __init__(self, in_channels, out_channels, stride=1, sc_layer=None):\n",
    "        super().__init__()\n",
    "\n",
    "        self.conv_layers = nn.Sequential(\n",
    "            nn.Conv2d(in_channels, out_channels, kernel_size=3, stride=stride, padding=1, bias=False),\n",
    "            nn.BatchNorm2d(out_channels),\n",
    "            nn.ReLU(inplace=True),\n",
    "            nn.Conv2d(out_channels, out_channels, kernel_size=3, stride=1, padding=1, bias=False),\n",
    "            nn.BatchNorm2d(out_channels),\n",
    "        )\n",
    "\n",
    "        self.last_relu = nn.ReLU(inplace=True)\n",
    "\n",
    "        self.sc_layer = sc_layer\n",
    "    def forward(self, x):\n",
    "        sc = x\n",
    "\n",
    "        if self.sc_layer:\n",
    "            sc = self.sc_layer(x.clone())\n",
    "\n",
    "        out = self.conv_layers(x)\n",
    "\n",
    "        out += sc\n",
    "\n",
    "        return self.last_relu(out)"
   ]
  },
  {
   "cell_type": "code",
   "execution_count": 132,
   "metadata": {},
   "outputs": [],
   "source": [
    "class ColorizationModel(nn.Module):\n",
    "    def __init__(self, in_channels=3, out_channels=3):\n",
    "        super().__init__()\n",
    "\n",
    "        def encoder(in_channels, out_channels):\n",
    "            return nn.Sequential(\n",
    "                nn.Conv2d(in_channels, out_channels, kernel_size=3, stride=2, padding=1),\n",
    "                nn.BatchNorm2d(out_channels),\n",
    "                nn.ReLU(inplace=True)\n",
    "            )\n",
    "\n",
    "        def decoder(in_channels, out_channels):\n",
    "            return nn.Sequential(\n",
    "                nn.ConvTranspose2d(in_channels, out_channels, kernel_size=3, stride=2, padding=1, output_padding=1),\n",
    "                nn.BatchNorm2d(out_channels),\n",
    "                nn.ReLU(inplace=True)\n",
    "            )\n",
    "        \n",
    "        self.res1 = self._make_res_block(in_channels, 64, 1)\n",
    "        self.enc1 = encoder(64, 128)\n",
    "        self.enc2 = encoder(128, 256)\n",
    "\n",
    "        self.res2 = self._make_res_block(256, 512, 1)\n",
    "        self.enc3 = encoder(512, 1024)\n",
    "        \n",
    "        self.dec1 = decoder(1024, 512)\n",
    "        self.dec2 = decoder(512, 256)\n",
    "        self.dec3 = decoder(256, 128)\n",
    "        self.unres1 = nn.ConvTranspose2d(128, 64, kernel_size=1, stride=1, padding=0, output_padding=0)\n",
    "\n",
    "        self.dec4 = nn.ConvTranspose2d(64, out_channels, kernel_size=1, stride=1, padding=0, output_padding=0)\n",
    "\n",
    "    def _make_res_block(self, in_channels, out_channels, stride):\n",
    "        if stride != 1 or in_channels != out_channels:\n",
    "            sc_layer = nn.Sequential(\n",
    "                nn.Conv2d(in_channels, out_channels, kernel_size=1, stride=stride, bias=False),\n",
    "                nn.BatchNorm2d(out_channels)\n",
    "            )\n",
    "\n",
    "        return ResidualBlock(in_channels, out_channels, stride, sc_layer)\n",
    "\n",
    "    def forward(self, x):\n",
    "        x = self.res1(x)\n",
    "        x = self.enc1(x)\n",
    "        x = self.enc2(x)   \n",
    "        x = self.res2(x)\n",
    "        x = self.enc3(x)\n",
    "\n",
    "        x = self.dec1(x)\n",
    "        x = self.dec2(x)\n",
    "        x = self.dec3(x)\n",
    "        x = self.unres1(x)\n",
    "        x = self.dec4(x)\n",
    "\n",
    "        return x"
   ]
  },
  {
   "cell_type": "code",
   "execution_count": 134,
   "metadata": {},
   "outputs": [],
   "source": [
    "model = ColorizationModel(1, 3).to(device)\n",
    "optimizer = torch.optim.Adam(model.parameters(), lr=1e-2)\n",
    "loss_fn = nn.MSELoss()"
   ]
  },
  {
   "cell_type": "code",
   "execution_count": 135,
   "metadata": {},
   "outputs": [],
   "source": [
    "def train(model: ColorizationModel, loss_fn: nn.MSELoss, optimizer: torch.optim.Adam, \n",
    "          train_loader: DataLoader, test_loader: DataLoader, device, epoches=3):\n",
    "    \n",
    "    train_size = len(train_loader.dataset)\n",
    "    test_size = len(test_loader.dataset)\n",
    "\n",
    "    for epoch in range(epoches):\n",
    "        train_loss = 0\n",
    "        test_loss = 0\n",
    "\n",
    "        model.train()\n",
    "        for img, _ in train_loader:\n",
    "            img: torch.Tensor\n",
    "            img = img.to(device)\n",
    "\n",
    "            gray_img = transform_to_gray(img)\n",
    "            rec_img = model(gray_img)\n",
    "\n",
    "            loss: torch.Tensor = loss_fn(rec_img, img)\n",
    "            train_loss += loss.item()\n",
    "\n",
    "            loss.backward()\n",
    "            optimizer.step()\n",
    "            optimizer.zero_grad()\n",
    "\n",
    "        model.eval()\n",
    "        with torch.no_grad():\n",
    "            for img, _ in test_loader:\n",
    "                img: torch.Tensor\n",
    "                img = img.to(device)\n",
    "\n",
    "                gray_img = transform_to_gray(img)\n",
    "                rec_img = model(gray_img)\n",
    "\n",
    "                loss: torch.Tensor = loss_fn(rec_img, img)\n",
    "                test_loss += loss.item()\n",
    "\n",
    "        train_loss = train_loss / train_size\n",
    "        test_loss = test_loss / test_size\n",
    "\n",
    "        print(f'Epoch: {epoch}/{epoches} | train loss = {train_loss} | test loss = {test_loss}')"
   ]
  },
  {
   "cell_type": "code",
   "execution_count": 165,
   "metadata": {},
   "outputs": [],
   "source": [
    "def display_results(model: ColorizationModel, data, device):\n",
    "    model.eval()\n",
    "\n",
    "    random_data = torch.randint(low=0, high=len(data), size=(1,))\n",
    "    image: torch.Tensor = data[random_data][0]\n",
    "    gray_image: torch.Tensor = transform_to_gray(image)\n",
    "\n",
    "    rec_image: torch.Tensor = model(gray_image.unsqueeze(dim=0).to(device))\n",
    "    rec_image = rec_image.squeeze().permute(1, 2, 0).cpu().detach()\n",
    "\n",
    "    rec_image = torch.clamp(rec_image, 0, 1).numpy()\n",
    "\n",
    "    # Plot the images\n",
    "    fig, axes = plt.subplots(1, 3, figsize=(4, 4))\n",
    "    axes[0].imshow(image.permute(1, 2, 0).numpy())\n",
    "    axes[0].set_title(\"Original\")\n",
    "    axes[1].imshow(gray_image.permute(1, 2, 0).numpy(), cmap='gray')\n",
    "    axes[1].set_title(\"Grayscale\")\n",
    "    axes[2].imshow(rec_image)\n",
    "    axes[2].set_title(\"Colorized\")\n",
    "    plt.show()\n",
    "\n",
    "    print(\"\\nReal Image Tensor:\", image)\n",
    "    print(\"\\nColorized Image Tensor:\", rec_image)"
   ]
  },
  {
   "cell_type": "code",
   "execution_count": 137,
   "metadata": {},
   "outputs": [
    {
     "name": "stdout",
     "output_type": "stream",
     "text": [
      "Epoch: 0/3 | train loss = 0.004213889904487878 | test loss = 0.0006600922199431807\n",
      "Epoch: 1/3 | train loss = 0.0007066820173244924 | test loss = 0.0004806492284871638\n",
      "Epoch: 2/3 | train loss = 0.0005477082849293947 | test loss = 0.0004956780821550637\n"
     ]
    }
   ],
   "source": [
    "train(model, loss_fn, optimizer, train_loader, test_loader, device, 3)"
   ]
  },
  {
   "cell_type": "code",
   "execution_count": 192,
   "metadata": {},
   "outputs": [
    {
     "data": {
      "image/png": "[encoded data removed]",
      "text/plain": [
       "<Figure size 400x400 with 3 Axes>"
      ]
     },
     "metadata": {},
     "output_type": "display_data"
    },
    {
     "name": "stdout",
     "output_type": "stream",
     "text": [
      "\n",
      "Real Image Tensor: tensor([[[0.3922, 0.3843, 0.3843,  ..., 0.2706, 0.2627, 0.2588],\n",
      "         [0.3843, 0.3725, 0.3686,  ..., 0.2549, 0.2510, 0.2471],\n",
      "         [0.3686, 0.3608, 0.3608,  ..., 0.2471, 0.2431, 0.2353],\n",
      "         ...,\n",
      "         [0.0510, 0.0471, 0.0471,  ..., 0.0157, 0.0196, 0.0157],\n",
      "         [0.0471, 0.0549, 0.0353,  ..., 0.0118, 0.0118, 0.0196],\n",
      "         [0.0549, 0.0471, 0.0353,  ..., 0.0157, 0.0157, 0.0196]],\n",
      "\n",
      "        [[0.4353, 0.4314, 0.4275,  ..., 0.3490, 0.3412, 0.3373],\n",
      "         [0.4275, 0.4157, 0.4118,  ..., 0.3333, 0.3294, 0.3255],\n",
      "         [0.4118, 0.4039, 0.4039,  ..., 0.3255, 0.3216, 0.3137],\n",
      "         ...,\n",
      "         [0.1059, 0.1020, 0.1020,  ..., 0.0235, 0.0275, 0.0275],\n",
      "         [0.0941, 0.1020, 0.0824,  ..., 0.0196, 0.0196, 0.0275],\n",
      "         [0.0902, 0.0824, 0.0745,  ..., 0.0157, 0.0196, 0.0196]],\n",
      "\n",
      "        [[0.5255, 0.5176, 0.5137,  ..., 0.4471, 0.4431, 0.4353],\n",
      "         [0.5137, 0.5020, 0.4980,  ..., 0.4314, 0.4275, 0.4196],\n",
      "         [0.4980, 0.4902, 0.4902,  ..., 0.4235, 0.4196, 0.4118],\n",
      "         ...,\n",
      "         [0.1569, 0.1529, 0.1529,  ..., 0.0824, 0.0863, 0.0863],\n",
      "         [0.1490, 0.1529, 0.1333,  ..., 0.0745, 0.0784, 0.0863],\n",
      "         [0.1333, 0.1216, 0.1137,  ..., 0.0667, 0.0706, 0.0706]]])\n",
      "\n",
      "Colorized Image Tensor: [[[0.4537082  0.4928024  0.52430296]\n",
      "  [0.435305   0.4828536  0.52660036]\n",
      "  [0.4312781  0.47867718 0.5205472 ]\n",
      "  ...\n",
      "  [0.3373594  0.37908605 0.43742853]\n",
      "  [0.32448632 0.36354947 0.41032204]\n",
      "  [0.32302403 0.35924307 0.40708202]]\n",
      "\n",
      " [[0.4282689  0.47593245 0.5082599 ]\n",
      "  [0.42529273 0.47264686 0.5162003 ]\n",
      "  [0.4152034  0.45768666 0.4982518 ]\n",
      "  ...\n",
      "  [0.32153416 0.36005604 0.42503017]\n",
      "  [0.31125018 0.3560626  0.41147065]\n",
      "  [0.29800522 0.34052294 0.3924749 ]]\n",
      "\n",
      " [[0.41906568 0.45632312 0.48101416]\n",
      "  [0.42521054 0.47558773 0.52334094]\n",
      "  [0.41142774 0.4595588  0.50059927]\n",
      "  ...\n",
      "  [0.3195272  0.37060088 0.43782234]\n",
      "  [0.30026206 0.35378206 0.41125038]\n",
      "  [0.3061346  0.34337378 0.39571068]]\n",
      "\n",
      " ...\n",
      "\n",
      " [[0.13785827 0.10982731 0.11890186]\n",
      "  [0.13011944 0.08868599 0.09607415]\n",
      "  [0.12063143 0.09155881 0.10039051]\n",
      "  ...\n",
      "  [0.03296444 0.         0.00994587]\n",
      "  [0.0357084  0.00838515 0.02692518]\n",
      "  [0.02467775 0.         0.02174461]]\n",
      "\n",
      " [[0.12997079 0.09520826 0.08992544]\n",
      "  [0.11680189 0.08423454 0.09660241]\n",
      "  [0.13739574 0.10174197 0.0993256 ]\n",
      "  ...\n",
      "  [0.04856709 0.01078242 0.03151911]\n",
      "  [0.06041789 0.02024087 0.02429628]\n",
      "  [0.05143115 0.01755443 0.02529299]]\n",
      "\n",
      " [[0.06901395 0.03907272 0.0568662 ]\n",
      "  [0.05846792 0.03640768 0.05722126]\n",
      "  [0.08082047 0.05454221 0.06317836]\n",
      "  ...\n",
      "  [0.00992179 0.         0.02114558]\n",
      "  [0.03222004 0.00436914 0.02383158]\n",
      "  [0.05096871 0.0148049  0.04077646]]]\n"
     ]
    }
   ],
   "source": [
    "display_results(model, data_test, device)"
   ]
  },
  {
   "cell_type": "code",
   "execution_count": 127,
   "metadata": {},
   "outputs": [
    {
     "data": {
      "text/plain": [
       "<matplotlib.image.AxesImage at 0x1788dfa4910>"
      ]
     },
     "execution_count": 127,
     "metadata": {},
     "output_type": "execute_result"
    },
    {
     "data": {
      "image/png": "[encoded data removed]",
      "text/plain": [
       "<Figure size 640x480 with 1 Axes>"
      ]
     },
     "metadata": {},
     "output_type": "display_data"
    }
   ],
   "source": [
    "plt.imshow(data_train[0][0].permute(1, 2, 0))"
   ]
  }
 ],
 "metadata": {
  "kernelspec": {
   "display_name": "Python 3",
   "language": "python",
   "name": "python3"
  },
  "language_info": {
   "codemirror_mode": {
    "name": "ipython",
    "version": 3
   },
   "file_extension": ".py",
   "mimetype": "text/x-python",
   "name": "python",
   "nbconvert_exporter": "python",
   "pygments_lexer": "ipython3",
   "version": "3.11.5"
  }
 },
 "nbformat": 4,
 "nbformat_minor": 2
}
