{
 "cells": [
  {
   "cell_type": "code",
   "execution_count": 1,
   "metadata": {},
   "outputs": [],
   "source": [
    "import torch\n",
    "import torch.nn as nn\n",
    "from torchvision import datasets, transforms\n",
    "from torch.utils.data import DataLoader, random_split\n",
    "\n",
    "from PIL import Image\n",
    "import matplotlib.pyplot as plt"
   ]
  },
  {
   "cell_type": "code",
   "execution_count": 2,
   "metadata": {},
   "outputs": [],
   "source": [
    "device = torch.device('cuda' if torch.cuda.is_available() else 'cpu')"
   ]
  },
  {
   "cell_type": "code",
   "execution_count": 3,
   "metadata": {},
   "outputs": [
    {
     "data": {
      "text/plain": [
       "device(type='cuda')"
      ]
     },
     "execution_count": 3,
     "metadata": {},
     "output_type": "execute_result"
    }
   ],
   "source": [
    "device"
   ]
  },
  {
   "cell_type": "code",
   "execution_count": 4,
   "metadata": {},
   "outputs": [],
   "source": [
    "class VOCTransform:\n",
    "    def __init__(self, image_transform=None, mask_transform=None):\n",
    "        self.image_transform = image_transform\n",
    "        self.mask_transform = mask_transform\n",
    "\n",
    "    def __call__(self, img, mask):\n",
    "        if self.image_transform:\n",
    "            img = self.image_transform(img)\n",
    "        if self.mask_transform:\n",
    "            mask = self.mask_transform(mask)\n",
    "        return img, mask\n",
    "\n",
    "image_transform = transforms.Compose([\n",
    "    transforms.Resize((256, 256)),\n",
    "    transforms.ToTensor(),\n",
    "    transforms.Normalize([0.485, 0.456, 0.406], [0.229, 0.224, 0.225])\n",
    "])\n",
    "\n",
    "mask_transform = transforms.Compose([\n",
    "    transforms.Resize((256, 256)),\n",
    "    transforms.ToTensor()\n",
    "])\n",
    "\n",
    "# one transform for normal images and one transform for masks\n",
    "data = datasets.VOCSegmentation(\n",
    "    root='../data',\n",
    "    year='2012',\n",
    "    image_set='train',\n",
    "    download=False,\n",
    "    transforms=VOCTransform(image_transform, mask_transform)\n",
    ")"
   ]
  },
  {
   "cell_type": "code",
   "execution_count": 5,
   "metadata": {},
   "outputs": [
    {
     "data": {
      "text/plain": [
       "Dataset VOCSegmentation\n",
       "    Number of datapoints: 1464\n",
       "    Root location: ../data\n",
       "    <__main__.VOCTransform object at 0x000002A08B671B90>"
      ]
     },
     "execution_count": 5,
     "metadata": {},
     "output_type": "execute_result"
    }
   ],
   "source": [
    "data"
   ]
  },
  {
   "cell_type": "code",
   "execution_count": 6,
   "metadata": {},
   "outputs": [],
   "source": [
    "train_size = int(0.8 * len(data))\n",
    "test_size = int(len(data) - train_size)\n",
    "\n",
    "train_data, test_data = random_split(data, [train_size, test_size])"
   ]
  },
  {
   "cell_type": "code",
   "execution_count": 7,
   "metadata": {},
   "outputs": [],
   "source": [
    "train_loader = DataLoader(train_data, batch_size=8, shuffle=True)\n",
    "test_loader = DataLoader(test_data, batch_size=8, shuffle=True)"
   ]
  },
  {
   "cell_type": "code",
   "execution_count": 28,
   "metadata": {},
   "outputs": [],
   "source": [
    "class UNet(nn.Module):\n",
    "    def __init__(self, n_classes=1):\n",
    "        super().__init__()\n",
    "        \n",
    "        def conv_block(in_channels, out_channels):\n",
    "            return nn.Sequential(\n",
    "                nn.Conv2d(in_channels, out_channels, kernel_size=3, padding=1),\n",
    "                nn.BatchNorm2d(out_channels),\n",
    "                nn.ReLU(inplace=True),\n",
    "                nn.Conv2d(out_channels, out_channels, kernel_size=3, padding=1),\n",
    "                nn.BatchNorm2d(out_channels),\n",
    "                nn.ReLU(inplace=True)\n",
    "            )\n",
    "        \n",
    "        def up_block(in_channels, out_channels):\n",
    "            return nn.Sequential(\n",
    "                nn.ConvTranspose2d(in_channels, out_channels, kernel_size=2, stride=2),\n",
    "                nn.ReLU(inplace=True)\n",
    "            )\n",
    "\n",
    "        self.enc1 = conv_block(3, 64)\n",
    "        self.enc2 = conv_block(64, 128)\n",
    "        self.enc3 = conv_block(128, 256)\n",
    "        self.enc4 = conv_block(256, 512)\n",
    "        self.enc5 = conv_block(512, 1024)\n",
    "\n",
    "        self.pool = nn.MaxPool2d(2)\n",
    "\n",
    "        self.dec1 = up_block(1024, 512)\n",
    "        self.dec2 = up_block(512, 256)\n",
    "        self.dec3 = up_block(256, 128)\n",
    "        self.dec4 = up_block(128, 64)\n",
    "\n",
    "        self.up_conv1 = conv_block(1024, 512)\n",
    "        self.up_conv2 = conv_block(512, 256)\n",
    "        self.up_conv3 = conv_block(256, 128)\n",
    "        self.up_conv4 = conv_block(128, 64)\n",
    "\n",
    "        self.out = nn.Conv2d(64, n_classes, kernel_size=1)\n",
    "        \n",
    "    def forward(self, x):\n",
    "        enc1 = self.enc1(x)\n",
    "        enc2 = self.enc2(self.pool(enc1))\n",
    "        enc3 = self.enc3(self.pool(enc2))\n",
    "        enc4 = self.enc4(self.pool(enc3))\n",
    "        bottleneck = self.enc5(self.pool(enc4))\n",
    "\n",
    "        dec1 = self.dec1(bottleneck)\n",
    "        dec1 = torch.cat((dec1, enc4), dim=1)\n",
    "        dec1 = self.up_conv1(dec1)\n",
    "\n",
    "        dec2 = self.dec2(dec1)\n",
    "        dec2 = torch.cat((dec2, enc3), dim=1)\n",
    "        dec2 = self.up_conv2(dec2)\n",
    "\n",
    "        dec3 = self.dec3(dec2)\n",
    "        dec3 = torch.cat((dec3, enc2), dim=1)\n",
    "        dec3 = self.up_conv3(dec3)\n",
    "\n",
    "        dec4 = self.dec4(dec3)\n",
    "        dec4 = torch.cat((dec4, enc1), dim=1)\n",
    "        dec4 = self.up_conv4(dec4)\n",
    "\n",
    "        return self.out(dec4)"
   ]
  },
  {
   "cell_type": "code",
   "execution_count": 9,
   "metadata": {},
   "outputs": [],
   "source": [
    "def train_epoch(model, train_loader, criterion, optimizer):\n",
    "    model.train()\n",
    "    running_loss = 0.0\n",
    "    for batch, (img, mask) in enumerate(train_loader):\n",
    "        optimizer.zero_grad()\n",
    "        img, mask = img.to(device), mask.to(device)\n",
    "        output = model(img)\n",
    "        torch.cuda.empty_cache()\n",
    "        loss = criterion(output, mask)\n",
    "        loss.backward()\n",
    "        optimizer.step()\n",
    "        running_loss += loss.item()\n",
    "\n",
    "    return running_loss / len(train_loader)\n",
    "\n",
    "\n",
    "def test_epoch(model, test_loader, criterion):\n",
    "    model.eval()\n",
    "    running_loss = 0.0\n",
    "    with torch.no_grad():\n",
    "        for img, mask in test_loader:\n",
    "            img, mask = img.to(device), mask.to(device)\n",
    "            output = model(img)\n",
    "            torch.cuda.empty_cache()\n",
    "            loss = criterion(output, mask)\n",
    "            running_loss += loss.item()\n",
    "    return running_loss / len(test_loader)\n",
    "\n",
    "\n",
    "def train(model, train_loader, test_loader, criterion, optimizer, num_epochs):\n",
    "    for epoch in range(num_epochs):\n",
    "        train_loss = train_epoch(model, train_loader, criterion, optimizer)\n",
    "        test_loss = test_epoch(model, test_loader, criterion)\n",
    "        print(f\"Epoch [{epoch+1}/{num_epochs}], Train Loss: {train_loss:.4f}, Test Loss: {test_loss:.4f}\")"
   ]
  },
  {
   "cell_type": "code",
   "execution_count": 10,
   "metadata": {},
   "outputs": [],
   "source": [
    "Unet = UNet().to(device)\n",
    "\n",
    "optimizer = torch.optim.Adam(Unet.parameters(), lr=0.0001)\n",
    "loss_fn = nn.BCEWithLogitsLoss()"
   ]
  },
  {
   "cell_type": "code",
   "execution_count": 11,
   "metadata": {},
   "outputs": [
    {
     "name": "stdout",
     "output_type": "stream",
     "text": [
      "Batch loss 0.9586\n",
      "Batch loss 77.4921\n",
      "Epoch [1/3], Train Loss: 0.7505, Test Loss: 0.7092\n",
      "Batch loss 0.7057\n",
      "Batch loss 70.7973\n",
      "Epoch [2/3], Train Loss: 0.6998, Test Loss: 0.6978\n",
      "Batch loss 0.6967\n",
      "Batch loss 70.2717\n",
      "Epoch [3/3], Train Loss: 0.6955, Test Loss: 0.6948\n"
     ]
    }
   ],
   "source": [
    "train(Unet, train_loader, test_loader, loss_fn, optimizer, 5)"
   ]
  },
  {
   "cell_type": "code",
   "execution_count": 31,
   "metadata": {},
   "outputs": [],
   "source": [
    "def display_result(model: UNet, data):\n",
    "    random_idx = torch.randint(low=0, high=len(data), size=(1,)).item()\n",
    "\n",
    "    random_image: torch.Tensor = data[random_idx][0]\n",
    "    random_image_label: torch.Tensor = data[random_idx][1]\n",
    "\n",
    "    seg_image: torch.Tensor = model(random_image.unsqueeze(dim=0).to(device))\n",
    "    seg_image = seg_image.squeeze().detach().cpu().numpy()\n",
    "    image = random_image.permute(1, 2, 0)\n",
    "    image_label = random_image_label.permute(1, 2, 0)\n",
    "\n",
    "    fig, axes = plt.subplots(1, 3, figsize=(10, 10))\n",
    "\n",
    "    axes[0].imshow(image)\n",
    "    axes[1].imshow(image_label)\n",
    "    axes[2].imshow(seg_image)\n",
    "\n",
    "    axes[0].set_title('real image')\n",
    "    axes[0].axis('off')\n",
    "\n",
    "    axes[1].set_title('true label')\n",
    "    axes[1].axis('off')\n",
    "\n",
    "    axes[2].set_title('predicted label')\n",
    "    axes[2].axis('off')"
   ]
  },
  {
   "cell_type": "code",
   "execution_count": 32,
   "metadata": {},
   "outputs": [
    {
     "name": "stderr",
     "output_type": "stream",
     "text": [
      "Clipping input data to the valid range for imshow with RGB data ([0..1] for floats or [0..255] for integers).\n"
     ]
    },
    {
     "data": {
      "image/png": "[encoded data removed]",
      "text/plain": [
       "<Figure size 1000x1000 with 3 Axes>"
      ]
     },
     "metadata": {},
     "output_type": "display_data"
    }
   ],
   "source": [
    "display_result(Unet, data)"
   ]
  }
 ],
 "metadata": {
  "kernelspec": {
   "display_name": "Python 3",
   "language": "python",
   "name": "python3"
  },
  "language_info": {
   "codemirror_mode": {
    "name": "ipython",
    "version": 3
   },
   "file_extension": ".py",
   "mimetype": "text/x-python",
   "name": "python",
   "nbconvert_exporter": "python",
   "pygments_lexer": "ipython3",
   "version": "3.11.5"
  }
 },
 "nbformat": 4,
 "nbformat_minor": 2
}
