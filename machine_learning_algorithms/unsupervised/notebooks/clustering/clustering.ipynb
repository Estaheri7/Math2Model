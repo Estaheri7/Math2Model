{
 "cells": [
  {
   "cell_type": "code",
   "execution_count": 3,
   "metadata": {},
   "outputs": [],
   "source": [
    "import numpy as np\n",
    "\n",
    "from sklearn.datasets import make_blobs"
   ]
  },
  {
   "cell_type": "code",
   "execution_count": null,
   "metadata": {},
   "outputs": [],
   "source": [
    "class Kmeans:\n",
    "    def __init__(self, k_clusters, epoches=100):\n",
    "        self.k_clusters = k_clusters\n",
    "        self.epoches = epoches\n",
    "        self.best_centroids = None\n",
    "\n",
    "    def fit(self, X: np.ndarray):\n",
    "        n_samples, n_features = X.shape\n",
    "        random_indices = np.random.choice(n_samples, size=self.k_clusters, replace=False)\n",
    "        centroids = X[random_indices]\n",
    "\n",
    "        for _ in range(self.epoches):\n",
    "            distances = np.linalg.norm(X[:, np.newaxis] - centroids, axis=2)\n",
    "            labels = np.argmin(distances, axis=1)\n",
    "\n",
    "            # new_centroids = []\n",
    "            # for cluster_j in range(self.k_clusters):\n",
    "            #     centroid_j = X[labels == cluster_j].mean(axis=0)\n",
    "            #     new_centroids.append(centroid_j)\n",
    "\n",
    "            new_centroids = np.array([X[labels == cluster].mean(axis=0) for cluster in range(self.k_clusters)])\n",
    "\n",
    "            new_centroids = np.array(new_centroids)\n",
    "\n",
    "            if np.all(new_centroids == centroids):\n",
    "                break\n",
    "\n",
    "            centroids = new_centroids\n",
    "\n",
    "        self.best_centroids = centroids\n",
    "\n",
    "    def predict(self, X: np.ndarray):\n",
    "        distances = np.linalg.norm(X[:, np.newaxis] - self.best_centroids, axis=2)\n",
    "        labels = np.argmin(distances, axis=1)\n",
    "        return labels"
   ]
  }
 ],
 "metadata": {
  "kernelspec": {
   "display_name": "Python 3",
   "language": "python",
   "name": "python3"
  },
  "language_info": {
   "codemirror_mode": {
    "name": "ipython",
    "version": 3
   },
   "file_extension": ".py",
   "mimetype": "text/x-python",
   "name": "python",
   "nbconvert_exporter": "python",
   "pygments_lexer": "ipython3",
   "version": "3.11.5"
  }
 },
 "nbformat": 4,
 "nbformat_minor": 2
}
