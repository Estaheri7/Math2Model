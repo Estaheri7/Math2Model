{
 "cells": [
  {
   "cell_type": "code",
   "execution_count": 9,
   "metadata": {},
   "outputs": [],
   "source": [
    "import numpy as np\n",
    "\n",
    "from sklearn.datasets import make_classification"
   ]
  },
  {
   "cell_type": "code",
   "execution_count": 49,
   "metadata": {},
   "outputs": [],
   "source": [
    "class PCA:\n",
    "    def __init__(self, k_features):\n",
    "        self.k_features = k_features\n",
    "        self.best_vectors = None\n",
    "\n",
    "    def fit(self, X: np.ndarray):\n",
    "        X_meaned = X - X.mean(axis=0)\n",
    "        cov_matrix = np.cov(X_meaned, rowvar=False)\n",
    "        eighvalues, eighvectors = np.linalg.eigh(cov_matrix)\n",
    "        best_values = np.argsort(eighvalues)[::-1]\n",
    "        self.best_vectors = eighvectors[:, best_values][:, :self.k_features]\n",
    "\n",
    "    def transform(self, X: np.ndarray):\n",
    "        return X @ self.best_vectors\n",
    "\n",
    "    def fit_transform(self, X: np.ndarray):\n",
    "        self.fit(X)\n",
    "        return self.transform(X)"
   ]
  }
 ],
 "metadata": {
  "kernelspec": {
   "display_name": "Python 3",
   "language": "python",
   "name": "python3"
  },
  "language_info": {
   "codemirror_mode": {
    "name": "ipython",
    "version": 3
   },
   "file_extension": ".py",
   "mimetype": "text/x-python",
   "name": "python",
   "nbconvert_exporter": "python",
   "pygments_lexer": "ipython3",
   "version": "3.11.5"
  }
 },
 "nbformat": 4,
 "nbformat_minor": 2
}
