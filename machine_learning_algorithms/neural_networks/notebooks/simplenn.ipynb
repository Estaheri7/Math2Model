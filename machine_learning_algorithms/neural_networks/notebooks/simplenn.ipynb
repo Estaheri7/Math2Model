{
 "cells": [
  {
   "cell_type": "code",
   "execution_count": 2,
   "metadata": {},
   "outputs": [],
   "source": [
    "import numpy as np"
   ]
  },
  {
   "cell_type": "markdown",
   "metadata": {},
   "source": [
    "# Layers"
   ]
  },
  {
   "cell_type": "code",
   "execution_count": 3,
   "metadata": {},
   "outputs": [],
   "source": [
    "class Layer:\n",
    "    def __init__(self):\n",
    "        self.input_ = None\n",
    "        self.output = None\n",
    "\n",
    "    def forward(self, input_: np.ndarray):\n",
    "        raise NotImplementedError('This method should be implemented')\n",
    "\n",
    "    def backward(self):\n",
    "        raise NotImplementedError('This method should be implemented')\n",
    "\n",
    "    def step(self):\n",
    "        pass"
   ]
  },
  {
   "cell_type": "markdown",
   "metadata": {},
   "source": [
    "### Linear layer "
   ]
  },
  {
   "cell_type": "code",
   "execution_count": null,
   "metadata": {},
   "outputs": [],
   "source": [
    "class Linear(Layer):\n",
    "    def __init__(self, features_in, features_out):\n",
    "        self.w = np.random.randn(features_in, features_out) * np.sqrt(2.0 / features_in)\n",
    "        self.b = np.random.randn(1, features_out) * 0.1\n",
    "\n",
    "        self.gradw = None\n",
    "        self.gradb = None\n",
    "\n",
    "    def forward(self, input_: np.ndarray):\n",
    "        self.input_ = input_\n",
    "        self.output = (input_ @ self.w) + self.b \n",
    "\n",
    "        return self.output\n",
    "\n",
    "    def backward(self, upstream_grad):\n",
    "        self.gradw = self.input_.T @ upstream_grad\n",
    "        self.gradb = np.sum(upstream_grad, axis=0, keepdims=True)\n",
    "\n",
    "        downstream_grad = upstream_grad @ self.w.T\n",
    "        return downstream_grad\n",
    "\n",
    "    def step(self, lr=0.1):\n",
    "        self.w -= lr * self.gradw\n",
    "        self.b -= lr * self.gradb"
   ]
  },
  {
   "cell_type": "markdown",
   "metadata": {},
   "source": [
    "### Sigmoid layer"
   ]
  },
  {
   "cell_type": "code",
   "execution_count": null,
   "metadata": {},
   "outputs": [],
   "source": [
    "class Sigmoid:\n",
    "    def forward(self, input_: np.ndarray):\n",
    "        self.output = 1 / (1 + np.exp(-input_))\n",
    "        return self.output\n",
    "\n",
    "    def backward(self, upstream_grad):\n",
    "        downstream_grad = upstream_grad * (self.output * (1 - self.output))\n",
    "        return downstream_grad"
   ]
  },
  {
   "cell_type": "markdown",
   "metadata": {},
   "source": [
    "### RELU layer"
   ]
  },
  {
   "cell_type": "code",
   "execution_count": null,
   "metadata": {},
   "outputs": [],
   "source": [
    "class ReLU:\n",
    "    def forward(self, input_: np.ndarray):\n",
    "        self.input_ = input_\n",
    "        self.output = np.maximum(0, input_)\n",
    "        return self.output\n",
    "\n",
    "    def backward(self, upstream_grad):\n",
    "        downstream_grad = upstream_grad * (self.input_ > 0 ).astype(upstream_grad.dtype)\n",
    "        return downstream_grad"
   ]
  },
  {
   "cell_type": "markdown",
   "metadata": {},
   "source": [
    "### Softmax Layer"
   ]
  },
  {
   "cell_type": "code",
   "execution_count": null,
   "metadata": {},
   "outputs": [],
   "source": [
    "class Softmax:\n",
    "    def __init__(self):\n",
    "        pass\n",
    "\n",
    "    def forward(self):\n",
    "        pass\n",
    "\n",
    "    def backward(self):\n",
    "        pass"
   ]
  },
  {
   "cell_type": "markdown",
   "metadata": {},
   "source": [
    "# Loss classes"
   ]
  },
  {
   "cell_type": "markdown",
   "metadata": {},
   "source": [
    "### Mean Squared Error"
   ]
  },
  {
   "cell_type": "code",
   "execution_count": null,
   "metadata": {},
   "outputs": [],
   "source": [
    "class MSE:\n",
    "    def __init__(self):\n",
    "        pass\n",
    "\n",
    "    def forward(self):\n",
    "        pass\n",
    "\n",
    "    def backward(self):\n",
    "        pass"
   ]
  },
  {
   "cell_type": "markdown",
   "metadata": {},
   "source": [
    "### Cross entropy"
   ]
  },
  {
   "cell_type": "code",
   "execution_count": null,
   "metadata": {},
   "outputs": [],
   "source": [
    "class CrossEntropy:\n",
    "    def __init__(self):\n",
    "        pass\n",
    "\n",
    "    def forward(self):\n",
    "        pass\n",
    "\n",
    "    def backward(self):\n",
    "        pass"
   ]
  },
  {
   "cell_type": "markdown",
   "metadata": {},
   "source": [
    "# Multi Layer Perceptron"
   ]
  },
  {
   "cell_type": "code",
   "execution_count": null,
   "metadata": {},
   "outputs": [],
   "source": [
    "class MLP:\n",
    "    def __init__(self):\n",
    "        pass\n",
    "\n",
    "    def forward(self):\n",
    "        pass\n",
    "\n",
    "    def backward(self):\n",
    "        pass\n",
    "\n",
    "    def update_weigths(self):\n",
    "        pass\n",
    "\n",
    "    def train(self):\n",
    "        pass\n",
    "\n",
    "    def predict(self):\n",
    "        pass"
   ]
  }
 ],
 "metadata": {
  "kernelspec": {
   "display_name": "Python 3",
   "language": "python",
   "name": "python3"
  },
  "language_info": {
   "codemirror_mode": {
    "name": "ipython",
    "version": 3
   },
   "file_extension": ".py",
   "mimetype": "text/x-python",
   "name": "python",
   "nbconvert_exporter": "python",
   "pygments_lexer": "ipython3",
   "version": "3.11.5"
  }
 },
 "nbformat": 4,
 "nbformat_minor": 2
}
