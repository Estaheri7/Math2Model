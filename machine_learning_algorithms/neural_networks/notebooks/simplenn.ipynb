{
 "cells": [
  {
   "cell_type": "code",
   "execution_count": 372,
   "metadata": {},
   "outputs": [],
   "source": [
    "import numpy as np\n",
    "from tqdm import trange"
   ]
  },
  {
   "cell_type": "markdown",
   "metadata": {},
   "source": [
    "# Layers"
   ]
  },
  {
   "cell_type": "code",
   "execution_count": 373,
   "metadata": {},
   "outputs": [],
   "source": [
    "class Layer:\n",
    "    def __init__(self):\n",
    "        self.input_ = None\n",
    "        self.output = None\n",
    "\n",
    "    def forward(self, input_: np.ndarray):\n",
    "        raise NotImplementedError('This method should be implemented')\n",
    "\n",
    "    def backward(self, upstream_grad: np.ndarray):\n",
    "        raise NotImplementedError('This method should be implemented')\n",
    "\n",
    "    def step(self, lr):\n",
    "        pass"
   ]
  },
  {
   "cell_type": "markdown",
   "metadata": {},
   "source": [
    "### Linear layer "
   ]
  },
  {
   "cell_type": "code",
   "execution_count": 374,
   "metadata": {},
   "outputs": [],
   "source": [
    "class Linear(Layer):\n",
    "    def __init__(self, features_in, features_out, beta1=0.9, beta2=0.999, epsilon=1e-8):\n",
    "        self.w = np.random.randn(features_in, features_out) * np.sqrt(2.0 / features_in)\n",
    "        self.b = np.random.randn(1, features_out) * 0.1\n",
    "\n",
    "        self.gradw = None\n",
    "        self.gradb = None\n",
    "\n",
    "        self.mw = np.zeros_like(self.w)\n",
    "        self.vw = np.zeros_like(self.w)\n",
    "        self.mb = np.zeros_like(self.b)\n",
    "        self.vb = np.zeros_like(self.b)\n",
    "        self.beta1 = beta1\n",
    "        self.beta2 = beta2\n",
    "        self.epsilon = epsilon\n",
    "        self.t = 0\n",
    "\n",
    "    def forward(self, input_: np.ndarray):\n",
    "        self.input_ = input_\n",
    "        self.output = (input_ @ self.w) + self.b \n",
    "\n",
    "        return self.output\n",
    "\n",
    "    def backward(self, upstream_grad: np.ndarray):\n",
    "        self.gradw = self.input_.T @ upstream_grad\n",
    "        self.gradb = np.sum(upstream_grad, axis=0, keepdims=True)\n",
    "\n",
    "        downstream_grad = upstream_grad @ self.w.T\n",
    "        return downstream_grad\n",
    "\n",
    "    def step(self, lr=0.1):\n",
    "        # Adam optimaztion\n",
    "        self.t += 1\n",
    "\n",
    "        self.mw = self.beta1 * self.mw + (1 - self.beta1) * self.gradw\n",
    "        self.vw = self.beta2 * self.vw + (1 - self.beta2) * (self.gradw ** 2)\n",
    "        mw_hat = self.mw / (1 - self.beta1 ** self.t)\n",
    "        vw_hat = self.vw / (1 - self.beta2 ** self.t)\n",
    "\n",
    "        self.w -= lr * mw_hat / (np.sqrt(vw_hat) + self.epsilon)\n",
    "\n",
    "        self.mb = self.beta1 * self.mb + (1 - self.beta1) * self.gradb\n",
    "        self.vb = self.beta2 * self.vb + (1 - self.beta2) * (self.gradb ** 2)\n",
    "\n",
    "        mb_hat = self.mb / (1 - self.beta1 ** self.t)\n",
    "        vb_hat = self.vb / (1 - self.beta2 ** self.t)\n",
    "\n",
    "        self.b -= lr * mb_hat / (np.sqrt(vb_hat) + self.epsilon)\n",
    "    def __str__(self):\n",
    "        return f'I am linear!'"
   ]
  },
  {
   "cell_type": "markdown",
   "metadata": {},
   "source": [
    "### Sigmoid layer"
   ]
  },
  {
   "cell_type": "code",
   "execution_count": 375,
   "metadata": {},
   "outputs": [],
   "source": [
    "class Sigmoid(Layer):\n",
    "    def forward(self, input_: np.ndarray):\n",
    "        self.output = 1 / (1 + np.exp(-input_))\n",
    "        return self.output\n",
    "\n",
    "    def backward(self, upstream_grad: np.ndarray):\n",
    "        downstream_grad = upstream_grad * (self.output * (1 - self.output))\n",
    "        return downstream_grad\n",
    "    \n",
    "    def __str__(self):\n",
    "        return f'I am sigmoid!'"
   ]
  },
  {
   "cell_type": "markdown",
   "metadata": {},
   "source": [
    "### RELU layer"
   ]
  },
  {
   "cell_type": "code",
   "execution_count": 376,
   "metadata": {},
   "outputs": [],
   "source": [
    "class ReLU(Layer):\n",
    "    def forward(self, input_: np.ndarray):\n",
    "        self.input_ = input_\n",
    "        self.output = np.maximum(0, input_)\n",
    "        return self.output\n",
    "\n",
    "    def backward(self, upstream_grad: np.ndarray):\n",
    "        downstream_grad = upstream_grad * (self.input_ > 0 ).astype(upstream_grad.dtype)\n",
    "        return downstream_grad\n",
    "    \n",
    "    def __str__(self):\n",
    "        return f'I am ReLU'"
   ]
  },
  {
   "cell_type": "markdown",
   "metadata": {},
   "source": [
    "### Softmax Layer"
   ]
  },
  {
   "cell_type": "code",
   "execution_count": 377,
   "metadata": {},
   "outputs": [],
   "source": [
    "class Softmax:\n",
    "    def __init__(self):\n",
    "        pass\n",
    "\n",
    "    def forward(self):\n",
    "        pass\n",
    "\n",
    "    def backward(self):\n",
    "        pass"
   ]
  },
  {
   "cell_type": "markdown",
   "metadata": {},
   "source": [
    "# Loss classes"
   ]
  },
  {
   "cell_type": "markdown",
   "metadata": {},
   "source": [
    "### Mean Squared Error"
   ]
  },
  {
   "cell_type": "code",
   "execution_count": 378,
   "metadata": {},
   "outputs": [],
   "source": [
    "class MSE(Layer):\n",
    "    def forward(self, y_pred: np.ndarray, y_true: np.ndarray):\n",
    "        self.y_pred = y_pred\n",
    "        self.output = np.mean((y_pred - y_true) ** 2)\n",
    "        return self.output\n",
    "\n",
    "    def backward(self, y_true: np.ndarray):\n",
    "        n = self.y_pred.size\n",
    "        upstream_grad =  2 * (self.y_pred - y_true) / n\n",
    "        return upstream_grad\n",
    "    \n",
    "    def __str__(self):\n",
    "        return f'I am MSE'"
   ]
  },
  {
   "cell_type": "markdown",
   "metadata": {},
   "source": [
    "### Cross entropy"
   ]
  },
  {
   "cell_type": "code",
   "execution_count": 379,
   "metadata": {},
   "outputs": [],
   "source": [
    "class CrossEntropy(Layer):\n",
    "    def __init__(self):\n",
    "        pass\n",
    "\n",
    "    def forward(self):\n",
    "        pass\n",
    "\n",
    "    def backward(self):\n",
    "        pass"
   ]
  },
  {
   "cell_type": "markdown",
   "metadata": {},
   "source": [
    "# Multi Layer Perceptron"
   ]
  },
  {
   "cell_type": "code",
   "execution_count": 380,
   "metadata": {},
   "outputs": [],
   "source": [
    "class MLP:\n",
    "    def __init__(self, layers: list[Layer], loss_method: Layer, lr=0.01):\n",
    "        self.layers = layers\n",
    "        self.loss_method = loss_method\n",
    "        self.lr = lr\n",
    "        self.outputs = None\n",
    "\n",
    "    def forward(self, input_: np.ndarray):\n",
    "        self.outputs = input_\n",
    "        for layer in self.layers:\n",
    "            self.outputs = layer.forward(self.outputs)\n",
    "\n",
    "        return self.outputs\n",
    "\n",
    "    def backward(self, y_true: np.ndarray):\n",
    "        upstream_grad = self.loss_method.backward(y_true) \n",
    "        for layer in self.layers[::-1]:\n",
    "            upstream_grad = layer.backward(upstream_grad)\n",
    "\n",
    "    def update_weigths(self):\n",
    "        for layer in self.layers:\n",
    "            layer.step(self.lr)\n",
    "\n",
    "    def evalate(self, input_: np.ndarray, y: np.ndarray):\n",
    "        predicts = self.forward(input_)\n",
    "        loss = self.loss_method.forward(predicts, y.reshape(-1, 1))\n",
    "        return loss\n",
    "\n",
    "    def train(self, input_: np.ndarray, y: np.ndarray, X_val: np.ndarray, y_val: np.ndarray, epoches=100, batch_size=1):\n",
    "        random_shuffle = np.random.permutation(input_.shape[0])\n",
    "        y = y.reshape(-1, 1)\n",
    "        shuffled_data_x = input_[random_shuffle]\n",
    "        shuffled_data_y = y[random_shuffle]\n",
    "        rows, columns = input_.shape\n",
    "\n",
    "        train_losses = []\n",
    "        val_losses = []\n",
    "\n",
    "        for epoch in (pbar := trange(epoches)):\n",
    "            random_indices = np.random.choice(rows, size=batch_size)\n",
    "            batch_data_x = shuffled_data_x[random_indices]\n",
    "            batch_data_y = shuffled_data_y[random_indices]\n",
    "\n",
    "            predicts = self.forward(batch_data_x)\n",
    "            train_loss = self.loss_method.forward(predicts, batch_data_y)\n",
    "            train_losses.append(train_loss)\n",
    "\n",
    "            self.backward(batch_data_y)\n",
    "            self.update_weigths()\n",
    "\n",
    "            val_loss = self.evalate(X_val, y_val)\n",
    "            val_losses.append(val_loss)\n",
    "\n",
    "        return train_losses, val_losses\n",
    "\n",
    "    def predict(self, input_: np.ndarray):\n",
    "        return self.forward(input_)"
   ]
  }
 ],
 "metadata": {
  "kernelspec": {
   "display_name": "Python 3",
   "language": "python",
   "name": "python3"
  },
  "language_info": {
   "codemirror_mode": {
    "name": "ipython",
    "version": 3
   },
   "file_extension": ".py",
   "mimetype": "text/x-python",
   "name": "python",
   "nbconvert_exporter": "python",
   "pygments_lexer": "ipython3",
   "version": "3.11.5"
  }
 },
 "nbformat": 4,
 "nbformat_minor": 2
}
