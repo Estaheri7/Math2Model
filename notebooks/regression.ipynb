{
 "cells": [
  {
   "cell_type": "code",
   "execution_count": null,
   "metadata": {},
   "outputs": [],
   "source": [
    "import numpy as np"
   ]
  },
  {
   "cell_type": "markdown",
   "metadata": {},
   "source": [
    "# Base Regression Model"
   ]
  },
  {
   "cell_type": "code",
   "execution_count": 52,
   "metadata": {},
   "outputs": [],
   "source": [
    "class RegressionModel:\n",
    "    def __init__(self):\n",
    "        self.coef = None\n",
    "        self.bias = None\n",
    "        self.w = None\n",
    "\n",
    "    def fit(self, X: np.ndarray, y: np.ndarray):\n",
    "        raise NotImplementedError('Subclasses should implement this class')\n",
    "    \n",
    "    def predict(self, X: np.ndarray):\n",
    "        pass\n",
    "\n",
    "    def add_bias(self, X: np.ndarray):\n",
    "        n_samples = X.shape[0]\n",
    "        bias_term = np.ones((n_samples, 1))\n",
    "        X_bias = np.hstack((bias_term, X))\n",
    "\n",
    "        return X_bias\n",
    "    \n",
    "    def score(self, X: np.ndarray, y: np.ndarray):\n",
    "        predictions = self.predict(X)\n",
    "        ss_total = np.sum((y - np.mean(y)) ** 2)\n",
    "        ss_residual = np.sum((y - predictions) ** 2)\n",
    "        return 1 - (ss_residual / ss_total)"
   ]
  },
  {
   "cell_type": "markdown",
   "metadata": {},
   "source": [
    "### A Regression model trained by normal Equation"
   ]
  },
  {
   "cell_type": "code",
   "execution_count": null,
   "metadata": {},
   "outputs": [],
   "source": [
    "class NormalRegression(RegressionModel):\n",
    "    def __init__(self):\n",
    "        super().__init__()\n",
    "\n",
    "    def fit(self, X: np.ndarray, y: np.ndarray):\n",
    "        X = self.add_bias(X)\n",
    "\n",
    "        self.w = np.linalg.pinv(X.T @ X) @ X.T @ y\n",
    "    \n",
    "    def predict(self, X):\n",
    "        X = self.add_bias(X)\n",
    "        return X @ self.w"
   ]
  }
 ],
 "metadata": {
  "kernelspec": {
   "display_name": "Python 3",
   "language": "python",
   "name": "python3"
  },
  "language_info": {
   "codemirror_mode": {
    "name": "ipython",
    "version": 3
   },
   "file_extension": ".py",
   "mimetype": "text/x-python",
   "name": "python",
   "nbconvert_exporter": "python",
   "pygments_lexer": "ipython3",
   "version": "3.11.5"
  }
 },
 "nbformat": 4,
 "nbformat_minor": 2
}
