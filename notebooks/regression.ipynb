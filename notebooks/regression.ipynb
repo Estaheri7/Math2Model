{
 "cells": [
  {
   "cell_type": "code",
   "execution_count": 2,
   "metadata": {},
   "outputs": [],
   "source": [
    "import numpy as np\n",
    "\n",
    "from sklearn.datasets import make_regression"
   ]
  },
  {
   "cell_type": "markdown",
   "metadata": {},
   "source": [
    "# Base Regression Model"
   ]
  },
  {
   "cell_type": "code",
   "execution_count": 3,
   "metadata": {},
   "outputs": [],
   "source": [
    "class RegressionModel:\n",
    "    def __init__(self):\n",
    "        self.coef = None\n",
    "        self.bias = None\n",
    "        self.w = None\n",
    "\n",
    "    def fit(self, X: np.ndarray, y: np.ndarray):\n",
    "        raise NotImplementedError('Subclasses should implement this class')\n",
    "    \n",
    "    def predict(self, X: np.ndarray):\n",
    "        pass\n",
    "\n",
    "    def add_bias(self, X: np.ndarray):\n",
    "        n_samples = X.shape[0]\n",
    "        bias_term = np.ones((n_samples, 1))\n",
    "        X_bias = np.hstack((bias_term, X))\n",
    "\n",
    "        return X_bias\n",
    "    \n",
    "    def score(self, X: np.ndarray, y: np.ndarray):\n",
    "        predictions = self.predict(X)\n",
    "        ss_total = np.sum((y - np.mean(y)) ** 2)\n",
    "        ss_residual = np.sum((y - predictions) ** 2)\n",
    "        return 1 - (ss_residual / ss_total)"
   ]
  },
  {
   "cell_type": "markdown",
   "metadata": {},
   "source": [
    "### A Regression model trained by normal Equation"
   ]
  },
  {
   "cell_type": "code",
   "execution_count": 4,
   "metadata": {},
   "outputs": [],
   "source": [
    "class NormalRegression(RegressionModel):\n",
    "    def __init__(self):\n",
    "        super().__init__()\n",
    "\n",
    "    def fit(self, X: np.ndarray, y: np.ndarray):\n",
    "        X = self.add_bias(X)\n",
    "\n",
    "        self.w = np.linalg.pinv(X.T @ X) @ X.T @ y\n",
    "    \n",
    "    def predict(self, X):\n",
    "        X = self.add_bias(X)\n",
    "        return X @ self.w"
   ]
  },
  {
   "cell_type": "code",
   "execution_count": 13,
   "metadata": {},
   "outputs": [],
   "source": [
    "class LinearRegression(RegressionModel):\n",
    "    def __init__(self, epoches=1000, learning_rate=0.1, lr_type='batch', batch_size=None):\n",
    "        super().__init__()\n",
    "        self.epoches = epoches\n",
    "        self.learning_rate = learning_rate\n",
    "        self.n_samples = 0\n",
    "        self.type = lr_type\n",
    "        self.batch_size = batch_size\n",
    "\n",
    "    def fit(self, X: np.ndarray, y: np.ndarray):\n",
    "        self.n_samples, n_features = X.shape[0], X.shape[1]\n",
    "        self.w = np.random.randn(n_features + 1) * 0.01\n",
    "        X_bias = self.add_bias(X)\n",
    "\n",
    "        if self.type == 'batch':\n",
    "            self.fit_batch(X_bias, y)\n",
    "        elif self.type == 'stochastic':\n",
    "            self.fit_stochastic(X_bias, y)\n",
    "        elif self.type == 'mini-batch':\n",
    "            self.fit_mini_batch(X_bias, y)\n",
    "\n",
    "    def fit_batch(self, X: np.ndarray, y: np.ndarray):\n",
    "        for _ in range(self.epoches):\n",
    "            predictions = X @ self.w\n",
    "            errors = predictions - y\n",
    "            gradient = (X.T @ errors) / self.n_samples\n",
    "\n",
    "            self.w = self.w - self.learning_rate * gradient\n",
    "\n",
    "    def fit_stochastic(self, X: np.ndarray, y: np.ndarray):\n",
    "        for _ in range(self.epoches):\n",
    "            random_idx = np.random.randint(self.n_samples)\n",
    "            random_sample = X[random_idx]\n",
    "            predict = self.w.T.dot(random_sample)\n",
    "            error = predict - y[random_idx]\n",
    "\n",
    "            stoch = error * random_sample\n",
    "            self.w = self.w - self.learning_rate * stoch\n",
    "\n",
    "    def fit_mini_batch(self, X: np.ndarray, y: np.ndarray):\n",
    "        for _ in range(self.epoches):\n",
    "            size = self.batch_size if self.batch_size else max(1, int(self.n_samples * 0.1))\n",
    "            random_inds = np.random.randint(0, self.n_samples, size=size)\n",
    "\n",
    "            batch_samples, batch_labels = X[random_inds], y[random_inds]\n",
    "            predictions = batch_samples @ self.w\n",
    "            errors = predictions - batch_labels\n",
    "\n",
    "            gradient = ( batch_samples.T @ errors ) / size\n",
    "\n",
    "            self.w = self.w - self.learning_rate * gradient\n",
    "\n",
    "    def predict(self, X:np.ndarray):\n",
    "        X = self.add_bias(X)\n",
    "        return X @ self.w"
   ]
  },
  {
   "cell_type": "code",
   "execution_count": 14,
   "metadata": {},
   "outputs": [],
   "source": [
    "X, y = make_regression(1000, 2)\n",
    "\n",
    "lr = LinearRegression(lr_type='mini-batch')\n",
    "lr.fit(X, y)"
   ]
  },
  {
   "cell_type": "code",
   "execution_count": 15,
   "metadata": {},
   "outputs": [
    {
     "data": {
      "text/plain": [
       "1.0"
      ]
     },
     "execution_count": 15,
     "metadata": {},
     "output_type": "execute_result"
    }
   ],
   "source": [
    "lr.score(X, y)"
   ]
  }
 ],
 "metadata": {
  "kernelspec": {
   "display_name": "Python 3",
   "language": "python",
   "name": "python3"
  },
  "language_info": {
   "codemirror_mode": {
    "name": "ipython",
    "version": 3
   },
   "file_extension": ".py",
   "mimetype": "text/x-python",
   "name": "python",
   "nbconvert_exporter": "python",
   "pygments_lexer": "ipython3",
   "version": "3.11.5"
  }
 },
 "nbformat": 4,
 "nbformat_minor": 2
}
