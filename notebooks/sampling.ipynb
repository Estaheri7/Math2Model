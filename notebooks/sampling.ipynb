{
 "cells": [
  {
   "cell_type": "code",
   "execution_count": 4,
   "metadata": {},
   "outputs": [],
   "source": [
    "import numpy as np"
   ]
  },
  {
   "cell_type": "code",
   "execution_count": 5,
   "metadata": {},
   "outputs": [],
   "source": [
    "class Sample:\n",
    "    def __init__(self, n_samples, n_dimension):\n",
    "        self.data = None\n",
    "        self.n_samples = n_samples\n",
    "        self.n_dimension = n_dimension\n",
    "\n",
    "    def create_uniform_samples(self, low=0, high=1):\n",
    "        self.data = np.random.uniform(low, high, (self.n_samples, self.n_dimension))\n",
    "        return self.data\n",
    "    \n",
    "    def create_normal_samples(self, mean=0, standard_deviation=1):\n",
    "        self.data = np.random.normal(loc=mean, scale=standard_deviation, size=(self.n_samples, self.n_dimension))\n",
    "        return self.data\n",
    "    \n",
    "    def create_classification_samples(self, type='normal', l=0, h=1, split_rate=0.5, shuffle=False):\n",
    "        data = None\n",
    "        if type == 'normal':\n",
    "            data = self.create_normal_samples(l, h)\n",
    "        if type == 'uniform':\n",
    "            data = self.create_uniform_samples(l, h)\n",
    "\n",
    "        split_index = int(self.n_samples * split_rate)\n",
    "\n",
    "        first_half = data[:split_index]\n",
    "        second_half = data[split_index:]\n",
    "\n",
    "        first_half = np.hstack((first_half, np.ones((split_index, 1))))\n",
    "        second_half = np.hstack((second_half, np.zeros((split_index, 1))))\n",
    "\n",
    "        self.data = np.concatenate((first_half, second_half), axis=0)\n",
    "\n",
    "        if shuffle:\n",
    "            indices = np.arange(self.n_samples)\n",
    "            np.random.shuffle(indices)\n",
    "            self.data = self.data[indices]\n",
    "\n",
    "    def add_bias_to_data(self):\n",
    "        self.data = np.hstack((np.ones((self.n_samples, 1)), self.data))\n"
   ]
  }
 ],
 "metadata": {
  "kernelspec": {
   "display_name": "Python 3",
   "language": "python",
   "name": "python3"
  },
  "language_info": {
   "codemirror_mode": {
    "name": "ipython",
    "version": 3
   },
   "file_extension": ".py",
   "mimetype": "text/x-python",
   "name": "python",
   "nbconvert_exporter": "python",
   "pygments_lexer": "ipython3",
   "version": "3.11.5"
  }
 },
 "nbformat": 4,
 "nbformat_minor": 2
}
