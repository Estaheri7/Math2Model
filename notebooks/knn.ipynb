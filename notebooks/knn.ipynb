{
 "cells": [
  {
   "cell_type": "code",
   "execution_count": 113,
   "metadata": {},
   "outputs": [],
   "source": [
    "import numpy as np\n",
    "from scipy.stats import mode\n",
    "\n",
    "from sklearn.datasets import make_classification, make_regression"
   ]
  },
  {
   "cell_type": "code",
   "execution_count": 140,
   "metadata": {},
   "outputs": [],
   "source": [
    "class KNN:\n",
    "    def __init__(self, n_neighbors=3, kind='classification'):\n",
    "        self.data = None\n",
    "        self.y = None\n",
    "        self.labels = None\n",
    "        self.n_neighbors = n_neighbors\n",
    "        self.kind = kind\n",
    "\n",
    "    def fit(self, X: np.ndarray, y: np.ndarray):\n",
    "        self.data = X\n",
    "        self.y = y\n",
    "    \n",
    "    def predict(self, X: np.ndarray):\n",
    "        diff = np.linalg.norm(X[:, np.newaxis] - self.data, axis=2)\n",
    "        k_nearest = np.argpartition(diff, self.n_neighbors, axis=1)[:, :self.n_neighbors]\n",
    "        self.labels = self.y[k_nearest]\n",
    "        if self.kind == 'classification':\n",
    "            return mode(self.labels, axis=1).mode\n",
    "        # handling regression cases\n",
    "        return np.mean(self.labels, axis=1)\n"
   ]
  }
 ],
 "metadata": {
  "kernelspec": {
   "display_name": "Python 3",
   "language": "python",
   "name": "python3"
  },
  "language_info": {
   "codemirror_mode": {
    "name": "ipython",
    "version": 3
   },
   "file_extension": ".py",
   "mimetype": "text/x-python",
   "name": "python",
   "nbconvert_exporter": "python",
   "pygments_lexer": "ipython3",
   "version": "3.11.5"
  }
 },
 "nbformat": 4,
 "nbformat_minor": 2
}
