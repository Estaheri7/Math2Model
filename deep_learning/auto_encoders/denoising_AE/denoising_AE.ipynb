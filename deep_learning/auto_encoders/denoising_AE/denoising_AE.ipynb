{
 "cells": [
  {
   "cell_type": "markdown",
   "metadata": {},
   "source": [
    "# Denoising Autoencoder (DAE)\n",
    "\n",
    "This project demonstrates the implementation of a Denoising Autoencoder (DAE) using PyTorch. The DAE is trained to remove noise from images, specifically using the CIFAR-10 dataset.\n",
    "\n",
    "## Algorithm Explanation\n",
    "\n",
    "A Denoising Autoencoder is a type of neural network used to learn efficient codings of input data while removing noise. The network consists of two main parts:\n",
    "\n",
    "1. **Encoder**: This part compresses the input image into a lower-dimensional representation.\n",
    "2. **Decoder**: This part reconstructs the image from the compressed representation.\n",
    "\n",
    "The network is trained to minimize the difference between the original and reconstructed images, effectively learning to remove noise from the input images."
   ]
  },
  {
   "cell_type": "markdown",
   "metadata": {},
   "source": [
    "## Import libaries"
   ]
  },
  {
   "cell_type": "code",
   "execution_count": 1,
   "metadata": {},
   "outputs": [],
   "source": [
    "import numpy as np\n",
    "\n",
    "import matplotlib.pyplot as plt\n",
    "\n",
    "import torch\n",
    "import torch.nn as nn\n",
    "from torchvision import datasets, transforms\n",
    "from torch.utils.data import DataLoader, Dataset, Subset\n",
    "\n",
    "from tqdm import trange"
   ]
  },
  {
   "cell_type": "markdown",
   "metadata": {},
   "source": [
    "set device"
   ]
  },
  {
   "cell_type": "code",
   "execution_count": 2,
   "metadata": {},
   "outputs": [],
   "source": [
    "device = torch.device('cuda') if torch.cuda.is_available() else torch.device('cpu')"
   ]
  },
  {
   "cell_type": "code",
   "execution_count": 3,
   "metadata": {},
   "outputs": [
    {
     "data": {
      "text/plain": [
       "device(type='cuda')"
      ]
     },
     "execution_count": 3,
     "metadata": {},
     "output_type": "execute_result"
    }
   ],
   "source": [
    "device"
   ]
  },
  {
   "cell_type": "markdown",
   "metadata": {},
   "source": [
    "### transform function to transform images to Tensors"
   ]
  },
  {
   "cell_type": "code",
   "execution_count": 4,
   "metadata": {},
   "outputs": [],
   "source": [
    "transform = transforms.Compose([\n",
    "    transforms.ToTensor(),\n",
    "])"
   ]
  },
  {
   "cell_type": "markdown",
   "metadata": {},
   "source": [
    "## Loading the dataset (CIFAR10)"
   ]
  },
  {
   "cell_type": "code",
   "execution_count": null,
   "metadata": {},
   "outputs": [],
   "source": [
    "train_dataset = datasets.CIFAR10(\n",
    "    root='../../../datasets',\n",
    "    download=False, # True if not downloaded\n",
    "    train=True,\n",
    "    transform=transform\n",
    ")\n",
    "\n",
    "test_dataset = datasets.CIFAR10(\n",
    "    root='../../../datasets',\n",
    "    download=False, # True if not downloaded\n",
    "    train=False,\n",
    "    transform=transform\n",
    ")"
   ]
  },
  {
   "cell_type": "markdown",
   "metadata": {},
   "source": [
    "# `add_noise`: Salt Noise Generator for Torch Tensors\n",
    "\n",
    "This function simulates **salt noise** by randomly selecting a fraction of an image’s pixels and decreasing their values. It is useful for training **denoising autoencoders**, robustness testing, or exploring data augmentation techniques.\n",
    "\n",
    "## Parameters\n",
    "\n",
    "- **`image (torch.Tensor)`**: A 3D or 4D image tensor of shape `(C, H, W)` or `(1, C, H, W)`.\n",
    "- **`noise_level (float)`**: Fraction of pixels to be noised, e.g., `0.01` means 1% of pixels.\n",
    "\n",
    "## Operation Summary\n",
    "\n",
    "- If needed, reshapes the image to include a batch dimension.\n",
    "- Randomly selects a subset of pixels based on `noise_level`.\n",
    "- Subtracts `1` from the selected pixels (simulating dark \"salt\" noise).\n",
    "- Ensures pixel values remain within the valid range `[0, 1]`.\n",
    "\n",
    "## Use Cases\n",
    "\n",
    "- Training and evaluating **denoising autoencoders**.\n",
    "- Simulating **image corruption** for robustness testing.\n",
    "- Simple augmentation in self-supervised learning settings."
   ]
  },
  {
   "cell_type": "code",
   "execution_count": null,
   "metadata": {},
   "outputs": [],
   "source": [
    "def add_noise(image: torch.Tensor, noise_level=0.01):\n",
    "    # Ensure the input has a batch dimension: (1, C, H, W)\n",
    "    if len(image.shape) == 3:\n",
    "        image = image.unsqueeze(dim=0)\n",
    "\n",
    "    # Create a copy of the image tensor to preserve the original\n",
    "    noisy_image = image.clone()\n",
    "\n",
    "    # Get dimensions: batch size (_), channels, height, width\n",
    "    _, c, h, w = image.shape\n",
    "    total_pixels = c * h * w  # Total number of pixels across all channels\n",
    "    total_noisy_pixels = int(noise_level * total_pixels)  # Number of pixels to corrupt\n",
    "\n",
    "    # Randomly select flat pixel indices to corrupt\n",
    "    noisy_pixel_indices = torch.randint(0, total_pixels, (total_noisy_pixels,))\n",
    "\n",
    "    # Map flat indices to 3D (channel, height, width) coordinates\n",
    "    noisy_pixels_c = noisy_pixel_indices // (h * w)\n",
    "    noisy_pixels_h = (noisy_pixel_indices % (h * w)) // w\n",
    "    noisy_pixels_w = noisy_pixel_indices % w\n",
    "\n",
    "    # Subtract 1 from the selected pixels to simulate \"pepper\" noise (darkening)\n",
    "    # Clamp ensures pixel values remain within [0, 1]\n",
    "    noisy_image[:, noisy_pixels_c, noisy_pixels_h, noisy_pixels_w] = torch.clamp(\n",
    "        noisy_image[:, noisy_pixels_c, noisy_pixels_h, noisy_pixels_w] - 1, min=0, max=1\n",
    "    )\n",
    "\n",
    "    return noisy_image"
   ]
  },
  {
   "cell_type": "markdown",
   "metadata": {},
   "source": [
    "### display single image\n",
    "\n",
    "A function to display an image and noise added to it"
   ]
  },
  {
   "cell_type": "code",
   "execution_count": 7,
   "metadata": {},
   "outputs": [],
   "source": [
    "def display_single_image(image: torch.Tensor, noise_level=0.01):\n",
    "    fig, axes = plt.subplots(1, 2, figsize=(3, 3))\n",
    "    \n",
    "    axes = axes.flatten()\n",
    "\n",
    "    image_noisy = add_noise(image, noise_level)\n",
    "\n",
    "    axes[0].imshow(image_noisy.squeeze().permute(1, 2, 0))\n",
    "    axes[1].imshow(image.squeeze().permute(1, 2, 0))\n",
    "    axes[0].axis('off')\n",
    "    axes[1].axis('off')\n",
    "    plt.show()"
   ]
  },
  {
   "cell_type": "markdown",
   "metadata": {},
   "source": [
    "Move dataset to pytorch DataLoaders"
   ]
  },
  {
   "cell_type": "code",
   "execution_count": 8,
   "metadata": {},
   "outputs": [],
   "source": [
    "train_dataloader = DataLoader(train_dataset, batch_size=256, shuffle=True)\n",
    "test_dataloader = DataLoader(test_dataset, batch_size=256, shuffle=True)"
   ]
  },
  {
   "cell_type": "markdown",
   "metadata": {},
   "source": [
    "### Below is an image with noise added to it"
   ]
  },
  {
   "cell_type": "code",
   "execution_count": 9,
   "metadata": {},
   "outputs": [
    {
     "data": {
      "image/png": "[encoded data removed]",
      "text/plain": [
       "<Figure size 300x300 with 2 Axes>"
      ]
     },
     "metadata": {},
     "output_type": "display_data"
    }
   ],
   "source": [
    "random_idx = torch.randint(low=0, high=len(train_dataset), size=(1,)).item()\n",
    "\n",
    "display_single_image(train_dataset[random_idx][0], noise_level=0.2)"
   ]
  },
  {
   "cell_type": "markdown",
   "metadata": {},
   "source": [
    "## Convolutional Autoencoder\n",
    "\n",
    "In this notebook we will use convolutional autoencoders which is better for image type dataset.\n",
    "\n",
    "## 2D Convolution and Transposed Convolution: Mathematical Explanation\n",
    "\n",
    "### Introduction\n",
    "\n",
    "In deep learning, **convolutional layers** are the backbone of convolutional neural networks (CNNs). Convolution operations apply a filter (or kernel) to input data (such as images) to extract features. **Transposed convolution** is used in tasks like **upsampling** or **generating larger feature maps**.\n",
    "\n",
    "---\n",
    "\n",
    "## 1. **2D Convolution**\n",
    "\n",
    "### Definition\n",
    "\n",
    "The **2D convolution** operation is the process of applying a kernel/filter to an input image or feature map. It slides the kernel over the image to compute the output feature map. The output size depends on the kernel size, stride, and padding.\n",
    "\n",
    "Let:\n",
    "- Input image: $I \\in \\mathbb{R}^{H \\times W}$\n",
    "- Filter (kernel): $K \\in \\mathbb{R}^{k_H \\times k_W}$\n",
    "- Output feature map: $O \\in \\mathbb{R}^{H' \\times W'}$\n",
    "\n",
    "### Mathematical Formula\n",
    "\n",
    "The 2D convolution operation computes the output at each position by performing an element-wise multiplication between the kernel and the local receptive field in the input image, followed by a summation:\n",
    "\n",
    "$$\n",
    "O(i, j) = \\sum_{m=0}^{k_H-1} \\sum_{n=0}^{k_W-1} I(i+m, j+n) \\cdot K(m, n)\n",
    "$$\n",
    "\n",
    "Where:\n",
    "- $i, j$ are the indices of the output feature map.\n",
    "- $m, n$ are the indices of the kernel.\n",
    "- $k_H$ and $k_W$ are the height and width of the kernel.\n",
    "\n",
    "### Parameters:\n",
    "- **Stride**: The step size at which the filter moves across the input. A stride of 1 means the filter moves one pixel at a time.\n",
    "- **Padding**: The process of adding extra pixels around the border of the input image. It allows the kernel to fully slide over the borders.\n",
    "\n",
    "The output size with stride $S$ and padding $P$ is given by:\n",
    "\n",
    "$$\n",
    "H' = \\frac{H + 2P - k_H}{S} + 1\n",
    "$$\n",
    "$$\n",
    "W' = \\frac{W + 2P - k_W}{S} + 1\n",
    "$$\n",
    "\n",
    "---\n",
    "\n",
    "## 2. **2D Transposed Convolution**\n",
    "\n",
    "### Definition\n",
    "\n",
    "**Transposed convolution** (also called **fractionally strided convolution** or **deconvolution**) is the reverse process of 2D convolution. It is used for **upsampling**, where the goal is to produce a larger output from a smaller input by reversing the operation of convolution.\n",
    "\n",
    "Let:\n",
    "- Input feature map: $I \\in \\mathbb{R}^{H' \\times W'}$\n",
    "- Filter (kernel): $K \\in \\mathbb{R}^{k_H \\times k_W}$\n",
    "- Output image: $O \\in \\mathbb{R}^{H \\times W}$\n",
    "\n",
    "### Mathematical Formula\n",
    "\n",
    "In transposed convolution, the kernel is applied in reverse (flipped both horizontally and vertically), and the values are inserted into the output at the corresponding positions:\n",
    "\n",
    "$$\n",
    "O(i, j) = \\sum_{m=0}^{k_H-1} \\sum_{n=0}^{k_W-1} I(i-m, j-n) \\cdot K(m, n)\n",
    "$$\n",
    "\n",
    "Where:\n",
    "- $i, j$ are the indices of the output feature map.\n",
    "- $m, n$ are the indices of the kernel.\n",
    "- $k_H$ and $k_W$ are the height and width of the kernel.\n",
    "\n",
    "Transposed convolution can also introduce a **stride** and **padding**. The output size with stride $S$ and padding $P$ is given by:\n",
    "\n",
    "$$\n",
    "H = (H' - 1) \\cdot S + k_H - 2P\n",
    "$$\n",
    "$$\n",
    "W = (W' - 1) \\cdot S + k_W - 2P\n",
    "$$\n",
    "\n",
    "### Visualizing the Difference\n",
    "\n",
    "While **2D convolution** reduces the spatial dimensions of the input image, **transposed convolution** increases the spatial dimensions (height and width). In transposed convolution, the filter is applied in reverse, and the result is \"spread out\" into the larger output size.\n",
    "\n",
    "---\n",
    "\n",
    "## Applications\n",
    "\n",
    "1. **2D Convolution**:\n",
    "   - Feature extraction in CNNs.\n",
    "   - Edge detection, pattern recognition in images.\n",
    "   - Used in layers like `nn.Conv2d` in PyTorch.\n",
    "\n",
    "2. **2D Transposed Convolution**:\n",
    "   - Upsampling in generative networks (e.g., autoencoders, GANs).\n",
    "   - Image generation and segmentation tasks.\n",
    "   - Used in layers like `nn.ConvTranspose2d` in PyTorch.\n",
    "\n",
    "---"
   ]
  },
  {
   "cell_type": "markdown",
   "metadata": {},
   "source": [
    "## Below is a simple Denoising AutoEncoder architecture"
   ]
  },
  {
   "cell_type": "code",
   "execution_count": 10,
   "metadata": {},
   "outputs": [],
   "source": [
    "class DAE(nn.Module):\n",
    "    def __init__(self, *args, **kwargs):\n",
    "        super().__init__(*args, **kwargs)\n",
    "        self.encoder = nn.Sequential(\n",
    "            nn.Conv2d(in_channels=3, out_channels=64, kernel_size=3, stride=2, padding=1),\n",
    "            nn.ReLU(inplace=True),\n",
    "            nn.Conv2d(in_channels=64, out_channels=128, kernel_size=3, stride=2, padding=1),\n",
    "            nn.ReLU(inplace=True),\n",
    "            nn.Conv2d(in_channels=128, out_channels=256, kernel_size=3, stride=2, padding=1),\n",
    "            nn.ReLU(inplace=True),\n",
    "        )\n",
    "\n",
    "        self.decoder = nn.Sequential(\n",
    "            nn.ConvTranspose2d(in_channels=256, out_channels=128, kernel_size=3, stride=2, padding=1, output_padding=1),\n",
    "            nn.ReLU(inplace=True),\n",
    "            nn.ConvTranspose2d(in_channels=128, out_channels=64, kernel_size=3, stride=2, padding=1, output_padding=1),\n",
    "            nn.ReLU(inplace=True),\n",
    "            nn.ConvTranspose2d(in_channels=64, out_channels=3, kernel_size=3, stride=2, padding=1, output_padding=1),\n",
    "        )\n",
    "\n",
    "        self.sigmoid = nn.Sigmoid()\n",
    "\n",
    "    def forward(self, x):\n",
    "        out = self.decoder(self.encoder(x))\n",
    "        return self.sigmoid(out)"
   ]
  },
  {
   "cell_type": "markdown",
   "metadata": {},
   "source": [
    "Train and Test functions for one epoch"
   ]
  },
  {
   "cell_type": "code",
   "execution_count": null,
   "metadata": {},
   "outputs": [],
   "source": [
    "def train_epoch(model: DAE, dataloader: DataLoader, loss_fn: nn.MSELoss, optimizer: torch.optim.Adam, noise_level):\n",
    "    size = len(dataloader.dataset)\n",
    "    total_loss = 0\n",
    "    model.train()\n",
    "\n",
    "    for batch, (image, _) in enumerate(dataloader):\n",
    "        image: torch.Tensor\n",
    "\n",
    "        image = image.to(device) # Move tensors to device\n",
    "        noisy_image = add_noise(image, noise_level).to(device) # Add noise to image\n",
    "\n",
    "        logits: torch.Tensor = model(noisy_image) # Reconstruct the image\n",
    "\n",
    "        loss: torch.Tensor = loss_fn(logits, image) # Calculate loss\n",
    "        total_loss += loss.item()\n",
    "\n",
    "        loss.backward() # back propagate\n",
    "        optimizer.step() # update weights\n",
    "        optimizer.zero_grad()\n",
    "\n",
    "    avg_loss = total_loss / size\n",
    "    return avg_loss\n",
    "\n",
    "\n",
    "def test_epoch(model: DAE, dataloader: DataLoader, loss_fn: nn.MSELoss, noise_level):\n",
    "    model.eval()\n",
    "    size = len(dataloader.dataset)\n",
    "    total_loss = 0\n",
    "\n",
    "    with torch.no_grad():\n",
    "        for image, _ in dataloader:\n",
    "            image: torch.Tensor\n",
    "\n",
    "            image = image.to(device)\n",
    "\n",
    "            noisy_image = add_noise(image, noise_level)\n",
    "\n",
    "            logits: torch.Tensor = model(noisy_image)\n",
    "\n",
    "            loss: torch.TensorBase = loss_fn(logits, image)\n",
    "            total_loss += loss.item()\n",
    "\n",
    "    avg_loss = total_loss / size\n",
    "    return avg_loss"
   ]
  },
  {
   "cell_type": "markdown",
   "metadata": {},
   "source": [
    "### General train function to train the model"
   ]
  },
  {
   "cell_type": "code",
   "execution_count": null,
   "metadata": {},
   "outputs": [],
   "source": [
    "def train(model: DAE, train_loader: DataLoader, test_loader: DataLoader, n_epochs=10, lr=0.01, noise_level=0.01):\n",
    "\n",
    "    loss_fn = nn.MSELoss()\n",
    "    optimizer = torch.optim.Adam(model.parameters(), lr=lr)\n",
    "\n",
    "    saves = {'train_loss': [], 'test_loss': []}\n",
    "\n",
    "    for epoch in (pbar := trange(n_epochs)):\n",
    "        train_loss = train_epoch(model, train_loader, loss_fn, optimizer, noise_level=noise_level)\n",
    "        test_loss = test_epoch(model, test_loader, loss_fn, noise_level=noise_level)\n",
    "\n",
    "        pbar.set_description(f'Epoch {epoch + 1} | train loss {train_loss} | test loss {test_loss}')\n",
    "\n",
    "        saves['train_loss'].append(train_loss)\n",
    "        saves['test_loss'].append(test_loss)\n",
    "    return saves"
   ]
  },
  {
   "cell_type": "markdown",
   "metadata": {},
   "source": [
    "### Train for 60 epochs"
   ]
  },
  {
   "cell_type": "code",
   "execution_count": null,
   "metadata": {},
   "outputs": [
    {
     "name": "stderr",
     "output_type": "stream",
     "text": [
      "Epoch 60 | train loss 4.642595374025405e-06 | test loss 4.189865686930716e-06: 100%|██████████| 60/60 [11:38<00:00, 11.65s/it]  \n"
     ]
    }
   ],
   "source": [
    "model = DAE().to(device)\n",
    "saves = train(model, train_dataloader, test_dataloader, n_epochs=60, lr=0.01, noise_level=0.1)"
   ]
  },
  {
   "cell_type": "markdown",
   "metadata": {},
   "source": [
    "### Display results for 60 epochs"
   ]
  },
  {
   "cell_type": "code",
   "execution_count": null,
   "metadata": {},
   "outputs": [
    {
     "data": {
      "image/png": "[encoded data removed]",
      "text/plain": [
       "<Figure size 1500x500 with 1 Axes>"
      ]
     },
     "metadata": {},
     "output_type": "display_data"
    }
   ],
   "source": [
    "n_epochs = np.arange(len(saves['train_loss'])).astype(int) + 1\n",
    "\n",
    "train_loss = saves['train_loss']\n",
    "test_loss = saves['test_loss']\n",
    "\n",
    "plt.figure(figsize=(15, 5))\n",
    "plt.plot(n_epochs, train_loss, c='blue', label='train')\n",
    "plt.plot(n_epochs, test_loss, c='green', label='test')\n",
    "plt.title('Loss for epoch')\n",
    "plt.ylabel('loss')\n",
    "plt.xlabel('epochs')\n",
    "plt.xticks(range(1, len(saves['train_loss'])))\n",
    "plt.legend()\n",
    "\n",
    "plt.tight_layout()\n",
    "plt.show()"
   ]
  },
  {
   "cell_type": "code",
   "execution_count": 16,
   "metadata": {},
   "outputs": [],
   "source": [
    "def display_image_noise_recon(model: DAE, image: torch.Tensor, noise_level=0.01):\n",
    "    fig, axes = plt.subplots(1, 3, figsize=(3, 3))\n",
    "\n",
    "    noisy_image: torch.Tensor = add_noise(image, noise_level=noise_level)\n",
    "    recon: torch.Tensor = model(noisy_image.to(device))\n",
    "\n",
    "    axes[0].imshow(image.permute(1, 2, 0))\n",
    "    axes[1].imshow(noisy_image.squeeze().permute(1, 2, 0))\n",
    "    axes[2].imshow(recon.squeeze().permute(1, 2, 0).cpu().detach().numpy())\n",
    "    for i in range(3):\n",
    "        axes[i].axis('off')\n",
    "\n",
    "    plt.tight_layout()\n",
    "    plt.show()"
   ]
  },
  {
   "cell_type": "code",
   "execution_count": 17,
   "metadata": {},
   "outputs": [],
   "source": [
    "def show_model(model: DAE, dataset: datasets.CIFAR10, noise_level=0.01):\n",
    "    random_idx = torch.randint(low=0, high=len(dataset), size=(1,))\n",
    "\n",
    "    image, _ = dataset[random_idx]\n",
    "\n",
    "    display_image_noise_recon(model, image, noise_level)"
   ]
  },
  {
   "cell_type": "code",
   "execution_count": 18,
   "metadata": {},
   "outputs": [
    {
     "data": {
      "image/png": "[encoded data removed]",
      "text/plain": [
       "<Figure size 300x300 with 3 Axes>"
      ]
     },
     "metadata": {},
     "output_type": "display_data"
    }
   ],
   "source": [
    "show_model(model, test_dataset, noise_level=0.1)"
   ]
  },
  {
   "cell_type": "markdown",
   "metadata": {},
   "source": [
    "### From left to right\n",
    "\n",
    "the first image is actual training image\n",
    "\n",
    "the second one is noisy image\n",
    "\n",
    "and the third is reconstructed image by the model"
   ]
  }
 ],
 "metadata": {
  "kernelspec": {
   "display_name": "Python 3",
   "language": "python",
   "name": "python3"
  },
  "language_info": {
   "codemirror_mode": {
    "name": "ipython",
    "version": 3
   },
   "file_extension": ".py",
   "mimetype": "text/x-python",
   "name": "python",
   "nbconvert_exporter": "python",
   "pygments_lexer": "ipython3",
   "version": "3.11.5"
  }
 },
 "nbformat": 4,
 "nbformat_minor": 2
}
