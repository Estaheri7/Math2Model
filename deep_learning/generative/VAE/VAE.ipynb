{
 "cells": [
  {
   "cell_type": "markdown",
   "metadata": {},
   "source": [
    "# Variational Autoencoder (VAE)\n",
    "\n",
    "This notebook contains an implementation of a Variational Autoencoder (VAE) using PyTorch. The VAE is trained on the CIFAR-10 dataset to generate new images."
   ]
  },
  {
   "cell_type": "markdown",
   "metadata": {},
   "source": [
    "### Import libraries"
   ]
  },
  {
   "cell_type": "code",
   "execution_count": 1,
   "metadata": {},
   "outputs": [],
   "source": [
    "from tqdm import tqdm\n",
    "import matplotlib.pyplot as plt\n",
    "\n",
    "import torch\n",
    "import torch.nn as nn\n",
    "import torch.nn.functional as F\n",
    "from torchvision.datasets import MNIST, CIFAR10\n",
    "from torchvision import transforms\n",
    "from torch.utils.data import DataLoader\n",
    "\n",
    "from torch import Tensor"
   ]
  },
  {
   "cell_type": "markdown",
   "metadata": {},
   "source": [
    "## Loading The Dataset"
   ]
  },
  {
   "cell_type": "code",
   "execution_count": 2,
   "metadata": {},
   "outputs": [],
   "source": [
    "transform = transforms.Compose([\n",
    "    transforms.ToTensor()\n",
    "])\n",
    "\n",
    "dataset = CIFAR10(\n",
    "    root='../../datasets',\n",
    "    train=True,\n",
    "    download=False,\n",
    "    transform=transform\n",
    ")\n",
    "\n",
    "dataloader = DataLoader(dataset, batch_size=256, shuffle=True)"
   ]
  },
  {
   "cell_type": "markdown",
   "metadata": {},
   "source": [
    "1. **Encoder Class**: \n",
    "    - The `Encoder` class is a neural network module that encodes input images into a latent space. It uses convolutional layers to extract features and fully connected layers to produce the mean and log variance of the latent variables."
   ]
  },
  {
   "cell_type": "code",
   "execution_count": 3,
   "metadata": {},
   "outputs": [],
   "source": [
    "class Encoder(nn.Module):\n",
    "    def __init__(self, latent_d=20, in_channels=1, hidden_channels=32):\n",
    "        super().__init__()\n",
    "        self.conv1 = nn.Conv2d(in_channels, hidden_channels, kernel_size=4, stride=2, padding=1)\n",
    "        self.conv2 = nn.Conv2d(hidden_channels, hidden_channels * 2, kernel_size=4, stride=2, padding=1)\n",
    "        self.conv3 = nn.Conv2d(hidden_channels * 2, hidden_channels * 4, kernel_size=4, stride=2, padding=1)\n",
    "\n",
    "        self.input_features = hidden_channels * 4 * 4 * 4 # for Cifar10 dataset\n",
    "\n",
    "        self.flatten = nn.Flatten()\n",
    "        self.fc_mean = nn.Linear(self.input_features, latent_d)\n",
    "        self.fc_logvar = nn.Linear(self.input_features, latent_d)\n",
    "\n",
    "    def forward(self, x: Tensor):\n",
    "        x = F.relu(self.conv1(x))\n",
    "        x = F.relu(self.conv2(x))\n",
    "        x = F.relu(self.conv3(x))\n",
    "        \n",
    "        x = self.flatten(x)\n",
    "        \n",
    "        mean = self.fc_mean(x)\n",
    "        log_var = self.fc_logvar(x)\n",
    "        return mean, log_var"
   ]
  },
  {
   "cell_type": "markdown",
   "metadata": {},
   "source": [
    "2. **Decoder Class**: \n",
    "    - The `Decoder` class is a neural network module that decodes latent variables back into images. It uses transposed convolutional layers to reconstruct the images from the latent space."
   ]
  },
  {
   "cell_type": "code",
   "execution_count": 4,
   "metadata": {},
   "outputs": [],
   "source": [
    "class Decoder(nn.Module):\n",
    "    def __init__(self, latent_d=20, in_channels=1, hidden_channels=32):\n",
    "        super().__init__()\n",
    "        self.convT1 = nn.ConvTranspose2d(4 * hidden_channels, 2 * hidden_channels, kernel_size=4, stride=2, padding=1)\n",
    "        self.convT2 = nn.ConvTranspose2d(2 * hidden_channels, hidden_channels, kernel_size=4, stride=2, padding=1)\n",
    "        self.convT3 = nn.ConvTranspose2d(hidden_channels, in_channels, kernel_size=4, stride=2, padding=1)\n",
    "\n",
    "        self.hidden_channels = hidden_channels\n",
    "\n",
    "        self.dc = nn.Linear(latent_d, 4 * hidden_channels * 4 * 4)\n",
    "\n",
    "    def forward(self, x: Tensor):\n",
    "        x = self.dc(x)\n",
    "        x = x.view(x.size(0), 4 * self.hidden_channels, 4, 4)\n",
    "        x = F.relu(self.convT1(x))\n",
    "        x = F.relu(self.convT2(x))\n",
    "\n",
    "        return F.sigmoid(self.convT3(x))"
   ]
  },
  {
   "cell_type": "markdown",
   "metadata": {},
   "source": [
    "## 3. Variational Autoencoder (VAE)\n",
    "\n",
    "A Variational Autoencoder (VAE) is a type of generative model that learns a probabilistic mapping between a latent space and observed data. The key idea is to model the data as coming from a distribution, rather than learning a fixed mapping.\n",
    "\n",
    "- **Encoder**: The encoder maps the input data $ \\mathbf{x} $ into a probabilistic distribution over the latent space, typically a Gaussian with parameters (mean $ \\mu $ and standard deviation $ \\sigma $).\n",
    "- **Decoder**: The decoder then samples from this latent distribution and reconstructs the data.\n",
    "\n",
    "In a VAE, the encoder outputs the parameters of the latent distribution (mean $ \\mu $ and log-variance $ \\log(\\sigma^2) $) rather than a fixed encoding.\n",
    "\n",
    "## The Reparameterization Trick\n",
    "\n",
    "One of the key challenges in training VAEs is that sampling from a distribution (such as a Gaussian) is not differentiable, which is required for backpropagation. This is where the **Reparameterization Trick** comes in.\n",
    "\n",
    "### Reparameterization Trick\n",
    "\n",
    "Given a random variable $ z $ from a Gaussian distribution $ \\mathcal{N}(\\mu, \\sigma^2) $, we can write it as:\n",
    "\n",
    "$$\n",
    "z = \\mu + \\sigma \\cdot \\epsilon\n",
    "$$\n",
    "\n",
    "where $ \\epsilon \\sim \\mathcal{N}(0, 1) $ is a standard normal random variable (mean 0 and variance 1), and $ \\mu $ and $ \\sigma $ are the parameters learned by the encoder.\n",
    "\n",
    "### Why This Works\n",
    "\n",
    "This trick is useful because it allows us to move the sampling operation out of the graph of the model, making the process differentiable. By rewriting the latent variable $ z $ as a function of $ \\mu $, $ \\sigma $, and a random variable $ \\epsilon $, we can backpropagate through the network and update the parameters $ \\mu $ and $ \\sigma $.\n",
    "\n",
    "Thus, during training, the VAE learns to parameterize the Gaussian distribution, and the reparameterization trick enables gradient descent to optimize the model. The key advantage is that the network can still learn to optimize its parameters even though we are sampling from a probability distribution.\n",
    "\n",
    "### Mathematical Expression\n",
    "\n",
    "The reparameterization trick can be summarized as:\n",
    "\n",
    "$$\n",
    "z = \\mu + \\sigma \\cdot \\epsilon \\quad \\text{where} \\quad \\epsilon \\sim \\mathcal{N}(0, 1)\n",
    "$$\n",
    "\n",
    "This allows backpropagation through the latent variable $ z $, and thus, the parameters $ \\mu $ and $ \\sigma $ can be learned effectively.\n",
    "\n",
    "By using this trick, we can sample from the latent distribution in a way that is differentiable and allows us to train the model using standard optimization methods like stochastic gradient descent."
   ]
  },
  {
   "cell_type": "code",
   "execution_count": 5,
   "metadata": {},
   "outputs": [],
   "source": [
    "class VAE(nn.Module):\n",
    "    def __init__(self, latent_d=20, in_channels=1, hidden_channels=32):\n",
    "        super().__init__()\n",
    "        self.encoder = Encoder(latent_d, in_channels, hidden_channels)\n",
    "        self.decoder = Decoder(latent_d, in_channels, hidden_channels)\n",
    "\n",
    "    def forward(self, x: Tensor):\n",
    "        mean, log_var = self.encoder(x)\n",
    "        z = self.reparameterize(mean, log_var)\n",
    "        z = z.view(z.size(0), -1)\n",
    "        recon = self.decoder(z)\n",
    "        return recon, mean, log_var\n",
    "\n",
    "    def reparameterize(self, mu, log_var):\n",
    "        std = torch.exp(0.5 * log_var)\n",
    "        eps = torch.randn_like(std)\n",
    "        return mu + eps * std"
   ]
  },
  {
   "cell_type": "markdown",
   "metadata": {},
   "source": [
    "4. **Loss Function**: \n",
    "    - The `vae_loss` function calculates the loss for the VAE, which is a combination of reconstruction loss (binary cross-entropy) and KL divergence loss."
   ]
  },
  {
   "cell_type": "markdown",
   "metadata": {},
   "source": [
    "### Loss Function for Variational Autoencoder (VAE)\n",
    "\n",
    "The loss function for a Variational Autoencoder (VAE) is a combination of two terms: the reconstruction loss and the KL divergence loss.\n",
    "\n",
    "The total VAE loss is given by:\n",
    "\n",
    "$$ \\text{Loss} = \\text{Reconstruction Loss} + \\text{KL Divergence Loss} $$\n",
    "\n",
    "Where:\n",
    "$$ \\text{Reconstruction Loss} = \\sum_{i} \\left( x_i \\log(x_{\\text{recon}, i}) + (1 - x_i) \\log(1 - x_{\\text{recon}, i}) \\right) $$\n",
    "\n",
    "$$ \\text{KL Divergence Loss} = -\\frac{1}{2} \\sum_{j} \\left( 1 + \\log(\\sigma_j^2) - \\mu_j^2 - \\sigma_j^2 \\right) $$"
   ]
  },
  {
   "cell_type": "code",
   "execution_count": 6,
   "metadata": {},
   "outputs": [],
   "source": [
    "def vae_loss(x_recon, x, mu, log_var):\n",
    "    recon_loss = F.binary_cross_entropy(x_recon, x, reduction=\"sum\")\n",
    "    kl_loss = -0.5 * torch.sum(1 + log_var - mu.pow(2) - log_var.exp())\n",
    "    return recon_loss + kl_loss"
   ]
  },
  {
   "cell_type": "markdown",
   "metadata": {},
   "source": [
    "Set the device"
   ]
  },
  {
   "cell_type": "code",
   "execution_count": 7,
   "metadata": {},
   "outputs": [],
   "source": [
    "device = 'cuda' if torch.cuda.is_available() else 'cpu'"
   ]
  },
  {
   "cell_type": "markdown",
   "metadata": {},
   "source": [
    "5. **Training Loop**: \n",
    "    - The training loop trains the VAE on the CIFAR-10 dataset. It iterates over the dataset, performs forward and backward passes, and updates the model parameters using the Adam optimizer."
   ]
  },
  {
   "cell_type": "code",
   "execution_count": 8,
   "metadata": {},
   "outputs": [
    {
     "name": "stderr",
     "output_type": "stream",
     "text": [
      "  7%|▋         | 1/15 [00:12<02:56, 12.62s/it]"
     ]
    },
    {
     "name": "stdout",
     "output_type": "stream",
     "text": [
      "Epoch [1/15], Loss: 1959.9888\n"
     ]
    },
    {
     "name": "stderr",
     "output_type": "stream",
     "text": [
      " 13%|█▎        | 2/15 [00:22<02:20, 10.83s/it]"
     ]
    },
    {
     "name": "stdout",
     "output_type": "stream",
     "text": [
      "Epoch [2/15], Loss: 1867.1201\n"
     ]
    },
    {
     "name": "stderr",
     "output_type": "stream",
     "text": [
      " 20%|██        | 3/15 [00:31<02:03, 10.27s/it]"
     ]
    },
    {
     "name": "stdout",
     "output_type": "stream",
     "text": [
      "Epoch [3/15], Loss: 1845.8686\n"
     ]
    },
    {
     "name": "stderr",
     "output_type": "stream",
     "text": [
      " 27%|██▋       | 4/15 [00:41<01:48,  9.91s/it]"
     ]
    },
    {
     "name": "stdout",
     "output_type": "stream",
     "text": [
      "Epoch [4/15], Loss: 1840.4201\n"
     ]
    },
    {
     "name": "stderr",
     "output_type": "stream",
     "text": [
      " 33%|███▎      | 5/15 [00:50<01:37,  9.77s/it]"
     ]
    },
    {
     "name": "stdout",
     "output_type": "stream",
     "text": [
      "Epoch [5/15], Loss: 1838.9209\n"
     ]
    },
    {
     "name": "stderr",
     "output_type": "stream",
     "text": [
      " 40%|████      | 6/15 [01:00<01:27,  9.71s/it]"
     ]
    },
    {
     "name": "stdout",
     "output_type": "stream",
     "text": [
      "Epoch [6/15], Loss: 1837.6122\n"
     ]
    },
    {
     "name": "stderr",
     "output_type": "stream",
     "text": [
      " 47%|████▋     | 7/15 [01:09<01:17,  9.68s/it]"
     ]
    },
    {
     "name": "stdout",
     "output_type": "stream",
     "text": [
      "Epoch [7/15], Loss: 1837.2024\n"
     ]
    },
    {
     "name": "stderr",
     "output_type": "stream",
     "text": [
      " 53%|█████▎    | 8/15 [01:19<01:07,  9.59s/it]"
     ]
    },
    {
     "name": "stdout",
     "output_type": "stream",
     "text": [
      "Epoch [8/15], Loss: 1836.0554\n"
     ]
    },
    {
     "name": "stderr",
     "output_type": "stream",
     "text": [
      " 60%|██████    | 9/15 [01:28<00:57,  9.57s/it]"
     ]
    },
    {
     "name": "stdout",
     "output_type": "stream",
     "text": [
      "Epoch [9/15], Loss: 1835.6548\n"
     ]
    },
    {
     "name": "stderr",
     "output_type": "stream",
     "text": [
      " 67%|██████▋   | 10/15 [01:38<00:47,  9.58s/it]"
     ]
    },
    {
     "name": "stdout",
     "output_type": "stream",
     "text": [
      "Epoch [10/15], Loss: 1835.2155\n"
     ]
    },
    {
     "name": "stderr",
     "output_type": "stream",
     "text": [
      " 73%|███████▎  | 11/15 [01:47<00:38,  9.58s/it]"
     ]
    },
    {
     "name": "stdout",
     "output_type": "stream",
     "text": [
      "Epoch [11/15], Loss: 1834.7761\n"
     ]
    },
    {
     "name": "stderr",
     "output_type": "stream",
     "text": [
      " 80%|████████  | 12/15 [01:57<00:28,  9.55s/it]"
     ]
    },
    {
     "name": "stdout",
     "output_type": "stream",
     "text": [
      "Epoch [12/15], Loss: 1834.3855\n"
     ]
    },
    {
     "name": "stderr",
     "output_type": "stream",
     "text": [
      " 87%|████████▋ | 13/15 [02:07<00:19,  9.62s/it]"
     ]
    },
    {
     "name": "stdout",
     "output_type": "stream",
     "text": [
      "Epoch [13/15], Loss: 1834.0719\n"
     ]
    },
    {
     "name": "stderr",
     "output_type": "stream",
     "text": [
      " 93%|█████████▎| 14/15 [02:16<00:09,  9.59s/it]"
     ]
    },
    {
     "name": "stdout",
     "output_type": "stream",
     "text": [
      "Epoch [14/15], Loss: 1833.6251\n"
     ]
    },
    {
     "name": "stderr",
     "output_type": "stream",
     "text": [
      "100%|██████████| 15/15 [02:26<00:00,  9.76s/it]"
     ]
    },
    {
     "name": "stdout",
     "output_type": "stream",
     "text": [
      "Epoch [15/15], Loss: 1833.7821\n"
     ]
    },
    {
     "name": "stderr",
     "output_type": "stream",
     "text": [
      "\n"
     ]
    }
   ],
   "source": [
    "vae = VAE(20, 3, 32).to(device)\n",
    "optimizer = torch.optim.Adam(vae.parameters(), lr=1e-3)\n",
    "\n",
    "epochs = 15\n",
    "\n",
    "for epoch in tqdm(range(epochs)):\n",
    "    total_loss = 0\n",
    "    for x, _ in dataloader:\n",
    "        x = x.to(device)\n",
    "        optimizer.zero_grad()\n",
    "        x_recon, mu, logvar = vae(x)\n",
    "        loss = vae_loss(x_recon, x, mu, logvar)\n",
    "        loss.backward()\n",
    "        optimizer.step()\n",
    "        total_loss += loss.item()\n",
    "    \n",
    "    print(f\"Epoch [{epoch+1}/{epochs}], Loss: {total_loss/len(dataloader.dataset):.4f}\")"
   ]
  },
  {
   "cell_type": "markdown",
   "metadata": {},
   "source": [
    "6. **Image Generation**: \n",
    "    - The `generate_images` function generates new images by sampling from the latent space and passing the samples through the decoder. It visualizes the generated images using Matplotlib."
   ]
  },
  {
   "cell_type": "code",
   "execution_count": 12,
   "metadata": {},
   "outputs": [
    {
     "data": {
      "image/png": "[encoded data removed]",
      "text/plain": [
       "<Figure size 1000x1000 with 10 Axes>"
      ]
     },
     "metadata": {},
     "output_type": "display_data"
    }
   ],
   "source": [
    "def generate_images(model, num_samples=10):\n",
    "    with torch.no_grad():\n",
    "        z = torch.randn(num_samples, 20)\n",
    "        samples = model.decoder(z.to(device)).view(num_samples, 3, 32, 32)\n",
    "    \n",
    "    fig, axes = plt.subplots(1, num_samples, figsize=(10, 10))\n",
    "    for i, ax in enumerate(axes):\n",
    "        ax.imshow(samples[i].permute(1, 2, 0).cpu().numpy())\n",
    "        ax.axis(\"off\")\n",
    "    plt.show()\n",
    "\n",
    "generate_images(vae, 10)"
   ]
  },
  {
   "cell_type": "markdown",
   "metadata": {},
   "source": [
    "# Reasons for Blurry Images in Variational Autoencoders (VAEs)\n",
    "\n",
    "The blurry images generated by Variational Autoencoders (VAEs) are a well-known issue in generative modeling. This happens due to several factors inherent to the VAE architecture, especially in how it models the latent space and handles reconstruction. Let’s break down the reasons:\n",
    "\n",
    "## 1. Smooth Latent Space\n",
    "In VAEs, the encoder learns a **probabilistic distribution** (usually Gaussian) over the latent variables rather than directly learning a single point in the latent space. Specifically, the encoder outputs a **mean** and a **variance** for each latent variable, which defines a Gaussian distribution.\n",
    "\n",
    "- **Sampling from this distribution** introduces noise and smoothness into the latent space. \n",
    "- When generating an image, we sample from this latent space and pass the sample through the decoder. The decoder doesn't have a direct mapping to a unique point but rather reconstructs an image based on a sampled point, which could lie in a smooth region of the latent space.\n",
    "\n",
    "This **smooth latent space** doesn't allow for sharp and distinct features, contributing to the **blurriness** of generated images. The generated image is typically a mixture of different possible reconstructions, leading to **averaging** of features and **blurred outputs**.\n",
    "\n",
    "## 2. Gaussian Assumption for Latent Variables\n",
    "In a VAE, we assume that the latent variables follow a **Gaussian distribution** (i.e., the mean and variance learned by the encoder are used to sample from a standard normal distribution). However, **Gaussian distributions are unimodal**, meaning they don't model complex, high-dimensional data distributions very well, especially in cases where the data (e.g., images) has **discrete or sharp features** (like edges or fine details).\n",
    "\n",
    "This Gaussian prior induces a **smooth latent space** that doesn’t capture fine-grained details well. When sampled, the decoder reconstructs images that are an average over multiple possible configurations, leading to a blurry output.\n",
    "\n",
    "## 3. Reconstruction Loss (MSE)\n",
    "In VAEs, the **reconstruction loss** (usually mean squared error or MSE) is used to compare the original image with the reconstructed image. MSE encourages the model to minimize the **overall pixel-wise differences** between the original and generated image.\n",
    "\n",
    "- MSE, being a **pixel-wise loss**, tends to **favor blurry images** because the model can reduce the error by averaging over neighboring pixels. This can result in sharp details (such as edges or textures) being smeared out.\n",
    "- This averaging effect in pixel-wise reconstruction is one of the reasons for blurry outputs.\n",
    "\n",
    "## 4. Limited Capacity of the Decoder\n",
    "The **decoder network** (which generates images from the latent variables) might not always have enough capacity to capture high-frequency details like fine textures or sharp edges, especially if the latent space is smooth or if the decoder is relatively shallow. \n",
    "\n",
    "This undercapacity can result in blurry images because the model cannot reconstruct fine details.\n",
    "\n",
    "## 5. Stochastic Nature of Latent Space Sampling\n",
    "VAEs use the **reparameterization trick** to sample latent variables. The latent variables are sampled from a distribution defined by the mean and variance output by the encoder. Since this is a probabilistic process, there can be a **loss of information** during sampling, leading to blurry or imprecise reconstructions.\n",
    "\n",
    "## 6. Lack of Explicit Modeling of Fine Details\n",
    "VAEs don't explicitly model fine details or high-frequency components of the image. Since VAEs are trained to model the **global distribution of data** rather than individual sharp features, they tend to generate images that are **visually plausible but lack sharpness**.\n",
    "\n",
    "## How to Improve Image Quality in VAEs\n",
    "- **Use of more sophisticated loss functions**: To counteract the blurriness, one could switch from pixel-wise loss functions (like MSE) to more perceptual losses, such as those based on features extracted from pre-trained models like VGG. **Adversarial training** (using a GAN loss) has been successfully combined with VAEs to improve the sharpness of generated images.\n",
    "  \n",
    "- **Better architecture**: Instead of using a simple fully connected network as the decoder, you can use **convolutional networks**, which are more capable of generating fine details and sharper features in images.\n",
    "\n",
    "- **Latent space regularization**: You could experiment with techniques like **disentangled VAEs** or **β-VAE**, which improve how the latent space captures the variability in the data.\n",
    "\n",
    "- **Higher dimensional latent space**: Increasing the dimensionality of the latent space may allow the model to capture more complex variations in the data, potentially leading to sharper reconstructions.\n",
    "\n",
    "## Conclusion\n",
    "The blurriness in VAE-generated images is primarily due to the **smoothness** of the latent space induced by the **Gaussian prior**, the **reparameterization trick**, and the **pixel-wise reconstruction loss**. While VAEs are great for learning generative models, their design favors smooth, averaged reconstructions, which can lead to blurry images."
   ]
  }
 ],
 "metadata": {
  "kernelspec": {
   "display_name": "Python 3",
   "language": "python",
   "name": "python3"
  },
  "language_info": {
   "codemirror_mode": {
    "name": "ipython",
    "version": 3
   },
   "file_extension": ".py",
   "mimetype": "text/x-python",
   "name": "python",
   "nbconvert_exporter": "python",
   "pygments_lexer": "ipython3",
   "version": "3.11.5"
  }
 },
 "nbformat": 4,
 "nbformat_minor": 2
}
