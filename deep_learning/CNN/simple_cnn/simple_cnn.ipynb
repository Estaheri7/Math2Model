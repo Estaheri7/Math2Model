{
 "cells": [
  {
   "cell_type": "markdown",
   "metadata": {},
   "source": [
    "# Convolutional Neural Networks (CNNs)\n",
    "\n",
    "Convolutional Neural Networks are a class of deep learning models specialized for processing **grid-like data** (especially images). CNNs are widely used in computer vision tasks like classification, segmentation, and object detection.\n",
    "\n",
    "---\n",
    "\n",
    "## Components of a CNN\n",
    "\n",
    "1. **Convolution Layer**\n",
    "2. **Activation Function (usually ReLU)**\n",
    "3. **Pooling Layer (e.g., Max Pooling)**\n",
    "4. **Fully Connected (Dense) Layer**\n",
    "5. **Softmax (for classification tasks)**\n",
    "\n",
    "---\n",
    "\n",
    "## 1. Convolution Operation\n",
    "\n",
    "Let:\n",
    "- Input image $I \\in \\mathbb{R}^{H \\times W}$\n",
    "- Kernel (filter) $K \\in \\mathbb{R}^{k_H \\times k_W}$\n",
    "\n",
    "Then the **discrete 2D convolution** (without padding) is:\n",
    "\n",
    "$$\n",
    "S(i, j) = (I * K)(i, j) = \\sum_{m=0}^{k_H - 1} \\sum_{n=0}^{k_W - 1} I(i + m, j + n) \\cdot K(m, n)\n",
    "$$\n",
    "\n",
    "For **stride $s$** and **padding $p$**, the output size becomes:\n",
    "\n",
    "$$\n",
    "H_{out} = \\left\\lfloor \\frac{H + 2p - k_H}{s} \\right\\rfloor + 1, \\quad\n",
    "W_{out} = \\left\\lfloor \\frac{W + 2p - k_W}{s} \\right\\rfloor + 1\n",
    "$$\n",
    "\n",
    "---\n",
    "\n",
    "## 2. Activation Function\n",
    "\n",
    "The most common is **ReLU**:\n",
    "\n",
    "$$\n",
    "f(x) = \\max(0, x)\n",
    "$$\n",
    "\n",
    "Other common activations:\n",
    "- Sigmoid: $f(x) = \\frac{1}{1 + e^{-x}}$\n",
    "- Tanh: $f(x) = \\tanh(x)$\n",
    "\n",
    "---\n",
    "\n",
    "## 3. Pooling Layer\n",
    "\n",
    "Used to **downsample** the feature maps and reduce computation.\n",
    "\n",
    "### Max Pooling (window size $k \\times k$):\n",
    "\n",
    "$$\n",
    "P(i, j) = \\max_{m=0}^{k-1} \\max_{n=0}^{k-1} A(i + m, j + n)\n",
    "$$\n",
    "\n",
    "Output size with stride $s$:\n",
    "\n",
    "$$\n",
    "H_{out} = \\left\\lfloor \\frac{H - k}{s} \\right\\rfloor + 1, \\quad\n",
    "W_{out} = \\left\\lfloor \\frac{W - k}{s} \\right\\rfloor + 1\n",
    "$$\n",
    "\n",
    "---\n",
    "\n",
    "## 4. Fully Connected Layer\n",
    "\n",
    "Let:\n",
    "- Input vector $x \\in \\mathbb{R}^n$\n",
    "- Weights $W \\in \\mathbb{R}^{m \\times n}$\n",
    "- Bias $b \\in \\mathbb{R}^m$\n",
    "\n",
    "Then output:\n",
    "\n",
    "$$\n",
    "y = W x + b\n",
    "$$\n",
    "\n",
    "---\n",
    "\n",
    "## 5. Softmax for Classification\n",
    "\n",
    "Softmax turns logits into probabilities:\n",
    "\n",
    "$$\n",
    "\\text{softmax}(z_i) = \\frac{e^{z_i}}{\\sum_{j} e^{z_j}}\n",
    "$$\n",
    "\n",
    "Cross-entropy loss (for label $y$ and prediction $\\hat{y}$):\n",
    "\n",
    "$$\n",
    "L = - \\sum_{i=1}^{C} y_i \\log(\\hat{y}_i)\n",
    "$$\n",
    "\n",
    "---\n",
    "\n",
    "# CNN Implementation in NumPy\n",
    "\n",
    "Below is a minimal CNN-like computation using NumPy.\n",
    "\n",
    "```python\n",
    "\n",
    "def conv2d(X, K, stride=1, padding=0):\n",
    "    X_padded = np.pad(X, ((padding, padding), (padding, padding)), mode='constant')\n",
    "    kH, kW = K.shape\n",
    "    H_out = (X_padded.shape[0] - kH) // stride + 1\n",
    "    W_out = (X_padded.shape[1] - kW) // stride + 1\n",
    "    out = np.zeros((H_out, W_out))\n",
    "    for i in range(0, H_out):\n",
    "        for j in range(0, W_out):\n",
    "            region = X_padded[i*stride:i*stride+kH, j*stride:j*stride+kW]\n",
    "            out[i, j] = np.sum(region * K)\n",
    "    return out\n",
    "\n",
    "def maxpool2d(X, size=2, stride=2):\n",
    "    H, W = X.shape\n",
    "    H_out = (H - size) // stride + 1\n",
    "    W_out = (W - size) // stride + 1\n",
    "    out = np.zeros((H_out, W_out))\n",
    "    for i in range(H_out):\n",
    "        for j in range(W_out):\n",
    "            region = X[i*stride:i*stride+size, j*stride:j*stride+size]\n",
    "            out[i, j] = np.max(region)\n",
    "    return out"
   ]
  },
  {
   "cell_type": "markdown",
   "metadata": {},
   "source": [
    "# CNN in Action\n",
    "\n",
    "In this notebook a simple convolutional neural network will be trained on MNIST dataset"
   ]
  },
  {
   "cell_type": "markdown",
   "metadata": {},
   "source": [
    "## Import libraries"
   ]
  },
  {
   "cell_type": "code",
   "execution_count": 1,
   "metadata": {},
   "outputs": [],
   "source": [
    "import os\n",
    "from tqdm import trange\n",
    "\n",
    "import numpy as np\n",
    "\n",
    "import torch\n",
    "from torch import nn\n",
    "from torch.utils.data import Dataset, DataLoader\n",
    "from torchvision import datasets\n",
    "from torchvision.transforms import ToTensor, Lambda\n",
    "\n",
    "import matplotlib.pyplot as plt"
   ]
  },
  {
   "cell_type": "markdown",
   "metadata": {},
   "source": [
    "### Load the dataset"
   ]
  },
  {
   "cell_type": "code",
   "execution_count": null,
   "metadata": {},
   "outputs": [],
   "source": [
    "training_data = datasets.MNIST(\n",
    "    root='../../../datasets',\n",
    "    train=True,\n",
    "    download=False, # True if is not downloaded\n",
    "    transform=ToTensor(),\n",
    "    target_transform=Lambda(lambda y: torch.zeros(10, dtype=torch.float).scatter_(0, torch.tensor(y), value=1))\n",
    ")\n",
    "\n",
    "test_data = datasets.MNIST(\n",
    "    root='../../../datasets',\n",
    "    train=False,\n",
    "    download=False, # True if is not downloaded\n",
    "    transform=ToTensor(),\n",
    "    target_transform=Lambda(lambda y: torch.zeros(10, dtype=torch.float).scatter_(0, torch.tensor(y), value=1))\n",
    ")"
   ]
  },
  {
   "cell_type": "markdown",
   "metadata": {},
   "source": [
    "## Move dataset to pytorch dataloaders (for training)"
   ]
  },
  {
   "cell_type": "code",
   "execution_count": 3,
   "metadata": {},
   "outputs": [],
   "source": [
    "train_dataloader = DataLoader(training_data, batch_size=64, shuffle=True)\n",
    "test_dataloader = DataLoader(test_data, batch_size=64, shuffle=True)"
   ]
  },
  {
   "cell_type": "code",
   "execution_count": 4,
   "metadata": {},
   "outputs": [],
   "source": [
    "def display_random_image(data: DataLoader):\n",
    "    random_number = np.random.randint(1, 5)\n",
    "    for i in range(random_number):\n",
    "        train_features, train_labels = next(iter(data))\n",
    "\n",
    "    image_features, image_label = train_features[random_number], train_labels[random_number]\n",
    "\n",
    "    plt.imshow(image_features.squeeze(), cmap='gray')\n",
    "    plt.title(torch.argmax(image_label).item())"
   ]
  },
  {
   "cell_type": "code",
   "execution_count": 5,
   "metadata": {},
   "outputs": [
    {
     "data": {
      "image/png": "[encoded data removed]",
      "text/plain": [
       "<Figure size 640x480 with 1 Axes>"
      ]
     },
     "metadata": {},
     "output_type": "display_data"
    }
   ],
   "source": [
    "display_random_image(train_dataloader)"
   ]
  },
  {
   "cell_type": "markdown",
   "metadata": {},
   "source": [
    "set device ( if gpu is available)"
   ]
  },
  {
   "cell_type": "code",
   "execution_count": 6,
   "metadata": {},
   "outputs": [
    {
     "name": "stdout",
     "output_type": "stream",
     "text": [
      "Using cuda device\n"
     ]
    }
   ],
   "source": [
    "device = (\n",
    "    \"cuda\"\n",
    "    if torch.cuda.is_available()\n",
    "    else \"mps\"\n",
    "    if torch.backends.mps.is_available()\n",
    "    else \"cpu\"\n",
    ")\n",
    "print(f\"Using {device} device\")"
   ]
  },
  {
   "cell_type": "markdown",
   "metadata": {},
   "source": [
    "## PyTorch `SimpleCNN` Class\n",
    "\n",
    "This is a simple Convolutional Neural Network (CNN) implemented using PyTorch's `nn.Module`. It is designed for grayscale images with **1 channel** and produces logits for **10 output classes** (e.g., MNIST digits)."
   ]
  },
  {
   "cell_type": "code",
   "execution_count": 7,
   "metadata": {},
   "outputs": [],
   "source": [
    "class SimpleCNN(nn.Module):\n",
    "    def __init__(self, *args, **kwargs):\n",
    "        super().__init__(*args, **kwargs)\n",
    "        self.simple_stack = nn.Sequential(\n",
    "            nn.Conv2d(in_channels=1, out_channels=4, kernel_size=5, stride=2),\n",
    "            nn.ReLU(),\n",
    "            nn.MaxPool2d(kernel_size=2, stride=2),\n",
    "            nn.Conv2d(4, 4, kernel_size=3, padding=1),\n",
    "            nn.ReLU(),\n",
    "            nn.MaxPool2d(kernel_size=2, stride=2),\n",
    "            nn.Flatten(),\n",
    "            nn.Linear(36, 10)\n",
    "        )\n",
    "\n",
    "    def forward(self, x):\n",
    "        logits = self.simple_stack(x)\n",
    "        return logits"
   ]
  },
  {
   "cell_type": "markdown",
   "metadata": {},
   "source": [
    "Prepare the model"
   ]
  },
  {
   "cell_type": "code",
   "execution_count": 8,
   "metadata": {},
   "outputs": [],
   "source": [
    "model = SimpleCNN()\n",
    "\n",
    "loss_fn = nn.CrossEntropyLoss()\n",
    "optimizer = torch.optim.Adam(model.parameters(), lr=0.001)"
   ]
  },
  {
   "cell_type": "markdown",
   "metadata": {},
   "source": [
    "### Train epoch function\n",
    "A function that trains the model by one epoch"
   ]
  },
  {
   "cell_type": "code",
   "execution_count": null,
   "metadata": {},
   "outputs": [],
   "source": [
    "def train_epoch(dataloader: DataLoader, model: SimpleCNN, loss_fn: nn.CrossEntropyLoss, optimizer: torch.optim):\n",
    "    model.to(device)\n",
    "    model.train()\n",
    "    epoch_loss = 0\n",
    "    for batch, (X, y) in enumerate(dataloader):\n",
    "        X, y = X.to(device), y.to(device) # Move tenors to device\n",
    "        pred = model(X) # predict\n",
    "        loss = loss_fn(pred, y) # calculate loss\n",
    "\n",
    "        loss.backward() # gradient descend\n",
    "        optimizer.step() # update weights\n",
    "        optimizer.zero_grad()\n",
    "\n",
    "        epoch_loss += loss.item()\n",
    "\n",
    "    avg_loss = epoch_loss / len(dataloader)\n",
    "\n",
    "    return avg_loss"
   ]
  },
  {
   "cell_type": "markdown",
   "metadata": {},
   "source": [
    "### Test epoch function\n",
    "A function that evaluates the model by one epoch"
   ]
  },
  {
   "cell_type": "code",
   "execution_count": 10,
   "metadata": {},
   "outputs": [],
   "source": [
    "def test_epoch(model: SimpleCNN, dataloader: DataLoader, loss_fn: nn.CrossEntropyLoss):\n",
    "    model.eval()\n",
    "\n",
    "    epoch_accuracy = 0\n",
    "    epoch_loss = 0\n",
    "    total_samples = 0\n",
    "\n",
    "    with torch.no_grad():\n",
    "        for X, y in dataloader:\n",
    "            X, y = X.to(device), y.to(device)\n",
    "            logits = model(X)\n",
    "\n",
    "            pred = logits.argmax(dim=1)\n",
    "            labels = y.argmax(dim=1)\n",
    "\n",
    "            epoch_loss += loss_fn(logits, y).item()\n",
    "            \n",
    "            correct_preds = (pred == labels).sum().item()\n",
    "            epoch_accuracy += correct_preds\n",
    "            total_samples += labels.size(0)\n",
    "\n",
    "    epoch_accuracy = (epoch_accuracy / total_samples) * 100\n",
    "    epoch_loss /= total_samples\n",
    "\n",
    "    return epoch_accuracy, epoch_loss"
   ]
  },
  {
   "cell_type": "markdown",
   "metadata": {},
   "source": [
    "## General train function"
   ]
  },
  {
   "cell_type": "code",
   "execution_count": 11,
   "metadata": {},
   "outputs": [],
   "source": [
    "def train(model, train_dataloader, test_dataloader, loss_fn, optimizer, epoches):\n",
    "    train_losses = np.empty(epoches)\n",
    "    test_losses = np.empty(epoches)\n",
    "    test_accs = np.empty(epoches)\n",
    "\n",
    "    for epoch in (pbar := trange(epoches)):\n",
    "        train_loss = train_epoch(train_dataloader, model, loss_fn, optimizer)\n",
    "        accuracy, test_loss = test_epoch(model, test_dataloader, loss_fn)\n",
    "\n",
    "        train_losses[epoch] = train_loss\n",
    "        test_losses[epoch] = test_loss\n",
    "        test_accs[epoch] = accuracy\n",
    "\n",
    "    print(f\"Finished with accuracy of {accuracy}% and loss equal to {test_loss}\")\n",
    "\n",
    "    return train_losses, test_losses, test_accs"
   ]
  },
  {
   "cell_type": "markdown",
   "metadata": {},
   "source": [
    "### Train the model"
   ]
  },
  {
   "cell_type": "code",
   "execution_count": 12,
   "metadata": {},
   "outputs": [
    {
     "name": "stderr",
     "output_type": "stream",
     "text": [
      "100%|██████████| 10/10 [02:10<00:00, 13.08s/it]"
     ]
    },
    {
     "name": "stdout",
     "output_type": "stream",
     "text": [
      "Finished with accuracy of 95.09% and loss equal to 0.0022321065662428735\n"
     ]
    },
    {
     "name": "stderr",
     "output_type": "stream",
     "text": [
      "\n"
     ]
    }
   ],
   "source": [
    "train_losses, test_losses, test_accuracies = train(model, train_dataloader, test_dataloader, loss_fn, optimizer, 10)"
   ]
  },
  {
   "cell_type": "markdown",
   "metadata": {},
   "source": [
    "# Results for 10 epochs"
   ]
  },
  {
   "cell_type": "code",
   "execution_count": 13,
   "metadata": {},
   "outputs": [],
   "source": [
    "def predict(test_dataloader, model):\n",
    "    random_number = np.random.randint(1, 6)\n",
    "\n",
    "    image_features, image_labels = None, None\n",
    "    for i in range(random_number):\n",
    "        image_features, image_labels = next(iter(test_dataloader))\n",
    "\n",
    "    pred = model(image_features.to(device))\n",
    "    print(f\"Predicted -> {torch.argmax(pred[random_number])} and the real is {torch.argmax(image_labels[random_number])}\")"
   ]
  },
  {
   "cell_type": "code",
   "execution_count": 24,
   "metadata": {},
   "outputs": [
    {
     "name": "stdout",
     "output_type": "stream",
     "text": [
      "Predicted -> 9 and the real is 9\n"
     ]
    }
   ],
   "source": [
    "predict(test_dataloader, model)"
   ]
  },
  {
   "cell_type": "code",
   "execution_count": 15,
   "metadata": {},
   "outputs": [
    {
     "data": {
      "image/png": "[encoded data removed]",
      "text/plain": [
       "<Figure size 640x480 with 1 Axes>"
      ]
     },
     "metadata": {},
     "output_type": "display_data"
    }
   ],
   "source": [
    "plt.plot(test_accuracies, c='blue', label='accuracy')\n",
    "plt.legend()\n",
    "plt.show()"
   ]
  },
  {
   "cell_type": "code",
   "execution_count": 18,
   "metadata": {},
   "outputs": [
    {
     "data": {
      "image/png": "[encoded data removed]",
      "text/plain": [
       "<Figure size 640x480 with 1 Axes>"
      ]
     },
     "metadata": {},
     "output_type": "display_data"
    }
   ],
   "source": [
    "plt.plot(train_losses, c='green', label='train loss')\n",
    "plt.plot(test_losses, c='red', label='test loss')\n",
    "plt.legend()\n",
    "plt.show()\n"
   ]
  }
 ],
 "metadata": {
  "kernelspec": {
   "display_name": "Python 3",
   "language": "python",
   "name": "python3"
  },
  "language_info": {
   "codemirror_mode": {
    "name": "ipython",
    "version": 3
   },
   "file_extension": ".py",
   "mimetype": "text/x-python",
   "name": "python",
   "nbconvert_exporter": "python",
   "pygments_lexer": "ipython3",
   "version": "3.11.5"
  }
 },
 "nbformat": 4,
 "nbformat_minor": 2
}
