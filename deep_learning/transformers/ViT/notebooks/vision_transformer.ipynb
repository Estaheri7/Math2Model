{
 "cells": [
  {
   "cell_type": "markdown",
   "metadata": {},
   "source": [
    "# Vision Transformer (ViT) Implementation Using Pytorch\n",
    "\n",
    "This notebook demonstrates the implementation of a Vision Transformer (ViT) from scratch using PyTorch. The Vision Transformer is a model for image classification that leverages the Transformer architecture, which has been highly successful in natural language processing tasks.\n",
    "\n",
    "We will be using the CIFAR-10 dataset for training and evaluating our model. The CIFAR-10 dataset consists of 60,000 32x32 color images in 10 different classes, with 6,000 images per class. The dataset is divided into 50,000 training images and 10,000 test images.\n",
    "\n",
    "The implementation includes the following components:\n",
    "- **Patcher**: Divides the input image into smaller patches.\n",
    "- **LinearProjectionFlatten**: Projects the patches into a higher-dimensional space.\n",
    "- **PositionalEncoder**: Adds positional information to the patches.\n",
    "- **SelfAttention**: Implements the self-attention mechanism.\n",
    "- **AttentionBlock**: Combines self-attention with linear projections.\n",
    "- **TransformerEncoder**: Stacks multiple attention blocks with normalization and feed-forward layers.\n",
    "- **MLPHead**: A simple feed-forward network for final classification.\n",
    "- **VisionTransformer**: Combines all components to form the complete Vision Transformer model.\n",
    "\n",
    "The model is trained on the CIFAR-10 dataset for 10 epochs using the Adam optimizer and cross-entropy loss. The training loss is plotted to visualize the training process, and the model's prediction for a sample image is compared with the true label."
   ]
  },
  {
   "cell_type": "markdown",
   "metadata": {},
   "source": [
    "### Import libraries"
   ]
  },
  {
   "cell_type": "code",
   "execution_count": 1,
   "metadata": {},
   "outputs": [],
   "source": [
    "from tqdm import tqdm\n",
    "\n",
    "import numpy as np\n",
    "\n",
    "import matplotlib.pyplot as plt\n",
    "\n",
    "import torch\n",
    "import torch.nn as nn\n",
    "import torch.nn.functional as F\n",
    "from torch import Tensor\n",
    "from torch.utils.data import DataLoader\n",
    "from torchvision.datasets import MNIST, CIFAR10\n",
    "from torchvision.transforms import transforms\n",
    "from einops import rearrange"
   ]
  },
  {
   "cell_type": "markdown",
   "metadata": {},
   "source": [
    "## Prepare the Data (Cifar10)"
   ]
  },
  {
   "cell_type": "code",
   "execution_count": 3,
   "metadata": {},
   "outputs": [
    {
     "name": "stderr",
     "output_type": "stream",
     "text": [
      "100%|██████████| 170M/170M [04:03<00:00, 700kB/s]  \n"
     ]
    }
   ],
   "source": [
    "# A simple transform for data since real focus is on ViT\n",
    "transform = transforms.Compose([\n",
    "    transforms.ToTensor()\n",
    "])\n",
    "\n",
    "# One-hot encoding the target labels\n",
    "def one_hot_encode(label):\n",
    "    return F.one_hot(torch.tensor(label), num_classes=10).float()\n",
    "\n",
    "train_dataset = CIFAR10(\n",
    "    root='../../../datasets',\n",
    "    train=True,\n",
    "    download=True, # Download the dataset if it does not exist\n",
    "    transform=transform,\n",
    "    target_transform=one_hot_encode\n",
    ")\n",
    "\n",
    "test_dataset = CIFAR10(\n",
    "    root='../../../datasets',\n",
    "    train=False,\n",
    "    download=True, # Download the dataset if it does not exist\n",
    "    transform=transform,\n",
    "    target_transform=one_hot_encode\n",
    ")"
   ]
  },
  {
   "cell_type": "code",
   "execution_count": 4,
   "metadata": {},
   "outputs": [],
   "source": [
    "train_dataloader = DataLoader(train_dataset, batch_size=256, shuffle=True)\n",
    "test_dataloader = DataLoader(test_dataset, batch_size=256, shuffle=True)"
   ]
  },
  {
   "cell_type": "markdown",
   "metadata": {},
   "source": [
    "In this notebook, we will implement the Vision Transformer (ViT) architecture as described in its original paper.\n",
    "\n",
    "![Vision Transformer](ViT_image_paper.png)\n"
   ]
  },
  {
   "cell_type": "markdown",
   "metadata": {},
   "source": [
    "# Vision Transformer (ViT)\n",
    "\n",
    "The Vision Transformer (ViT) is an adaptation of the Transformer architecture, originally developed for NLP, to the vision domain. It treats images as sequences of patches and applies a standard Transformer encoder for image classification.\n",
    "\n",
    "---\n",
    "\n",
    "## 1. Input Representation\n",
    "\n",
    "Unlike CNNs, ViT does not operate on pixels directly but divides the image into fixed-size patches.\n",
    "\n",
    "### Steps:\n",
    "\n",
    "1. **Split the image** into non-overlapping patches of size $(P \\times P)$.\n",
    "2. **Flatten** each patch into a vector.\n",
    "3. **Linearly project** each patch to a lower-dimensional embedding space.\n",
    "4. **Add positional embeddings** to each patch embedding.\n",
    "5. **Prepend** a learnable `[CLS]` token embedding.\n",
    "\n",
    "### Example:\n",
    "\n",
    "For an image of size $H \\times W \\times C$:\n",
    "\n",
    "- Patch size = $P \\times P$\n",
    "- Number of patches = $N = \\frac{HW}{P^2}$\n",
    "\n",
    "Then each patch is flattened and mapped via a linear layer:\n",
    "\n",
    "$$\n",
    "x_i = \\text{Flatten}(p_i) \\in \\mathbb{R}^{P^2 \\cdot C} \\\\\n",
    "z_i = x_i W_E + b_E \\in \\mathbb{R}^D\n",
    "$$\n",
    "\n",
    "Where:\n",
    "- $W_E$ is the patch embedding matrix of size $(P^2 \\cdot C) \\times D$,\n",
    "- $z_i$ is the projected patch embedding,\n",
    "- $D$ is the Transformer hidden dimension.\n",
    "\n",
    "The input sequence becomes:\n",
    "\n",
    "$$\n",
    "Z_0 = [x_{\\text{cls}}; z_1; z_2; \\dots; z_N] + PE\n",
    "$$\n",
    "\n",
    "Where:\n",
    "- $x_{\\text{cls}}$ is the learnable classification token,\n",
    "- $PE$ is the positional embedding matrix.\n",
    "\n",
    "---\n",
    "\n",
    "## 2. Transformer Encoder\n",
    "\n",
    "ViT uses the **standard Transformer encoder** from NLP, composed of multiple layers of:\n",
    "\n",
    "1. **Multi-head self-attention (MHSA)**:\n",
    "   Each patch attends to all others (including `[CLS]`).\n",
    "\n",
    "2. **Feed-forward network (FFN)**:\n",
    "   Applies a 2-layer MLP to each token independently.\n",
    "\n",
    "3. **Layer normalization** and **residual connections** are used around each sub-layer.\n",
    "\n",
    "---\n",
    "\n",
    "### Multi-head Self-Attention (MHSA)\n",
    "\n",
    "Self-attention allows each token to gather information from every other token in the sequence.\n",
    "\n",
    "Given input sequence $X \\in \\mathbb{R}^{(N+1) \\times D}$, we compute:\n",
    "\n",
    "1. **Linear projections** to query, key, and value:\n",
    "\n",
    "$$\n",
    "Q = XW^Q, \\quad K = XW^K, \\quad V = XW^V\n",
    "$$\n",
    "\n",
    "where:\n",
    "\n",
    "- $W^Q, W^K, W^V \\in \\mathbb{R}^{D \\times d_k}$ are learned matrices,\n",
    "- $Q, K, V \\in \\mathbb{R}^{(N+1) \\times d_k}$ for each head.\n",
    "\n",
    "2. **Scaled dot-product attention**:\n",
    "\n",
    "$$\n",
    "\\text{Attention}(Q, K, V) = \\text{softmax}\\left( \\frac{QK^T}{\\sqrt{d_k}} \\right) V\n",
    "$$\n",
    "\n",
    "This computes attention scores between all patches.\n",
    "\n",
    "3. **Multi-head Attention**:\n",
    "\n",
    "Instead of using a single attention head, we use $h$ heads, each with different projections:\n",
    "\n",
    "$$\n",
    "\\text{MHSA}(X) = \\text{Concat}(\\text{head}_1, \\dots, \\text{head}_h) W^O\n",
    "$$\n",
    "\n",
    "Each head is:\n",
    "\n",
    "$$\n",
    "\\text{head}_i = \\text{Attention}(XW^Q_i, XW^K_i, XW^V_i)\n",
    "$$\n",
    "\n",
    "Where:\n",
    "\n",
    "- $W^Q_i, W^K_i, W^V_i \\in \\mathbb{R}^{D \\times d_k}$,\n",
    "- $W^O \\in \\mathbb{R}^{hd_k \\times D}$ is the output projection matrix.\n",
    "\n",
    "**Total output** after MHSA is again of shape $\\mathbb{R}^{(N+1) \\times D}$.\n",
    "\n",
    "---\n",
    "\n",
    "### Feed-forward Network (FFN)\n",
    "\n",
    "Each token (including `[CLS]`) goes through:\n",
    "\n",
    "$$\n",
    "\\text{FFN}(x) = \\max(0, xW_1 + b_1)W_2 + b_2\n",
    "$$\n",
    "\n",
    "Where:\n",
    "\n",
    "- $W_1 \\in \\mathbb{R}^{D \\times D_{ff}}, W_2 \\in \\mathbb{R}^{D_{ff} \\times D}$\n",
    "- Typically, $D_{ff} = 4D$\n",
    "\n",
    "---\n",
    "\n",
    "## 3. Classification Head\n",
    "\n",
    "After passing through the Transformer layers, only the `[CLS]` token is used for prediction:\n",
    "\n",
    "$$\n",
    "\\hat{y} = \\text{softmax}(W_{\\text{cls}} \\cdot x_{\\text{cls}} + b)\n",
    "$$\n",
    "\n",
    "---\n",
    "\n",
    "## 4. Positional Embeddings\n",
    "\n",
    "Since Transformers lack inductive biases like locality and translation equivariance, **positional encodings** are added to the patch embeddings.\n",
    "\n",
    "These are typically **learned** vectors:\n",
    "\n",
    "$$\n",
    "Z_0 = [x_{\\text{cls}}; z_1; \\dots; z_N] + PE \\in \\mathbb{R}^{(N+1) \\times D}\n",
    "$$\n",
    "\n",
    "---\n",
    "\n",
    "## 5. Summary\n",
    "\n",
    "| Component         | Purpose                                                       |\n",
    "|-------------------|---------------------------------------------------------------|\n",
    "| Patch embedding   | Converts image patches into a sequence of tokens              |\n",
    "| Positional encoding | Adds positional information for patch order                  |\n",
    "| Transformer encoder | Learns relationships among patches via attention             |\n",
    "| `[CLS]` token     | Summary representation used for final classification          |\n",
    "| MLP Head          | Predicts class probabilities from `[CLS]` token               |\n",
    "\n",
    "---\n",
    "\n",
    "## Advantages of ViT\n",
    "\n",
    "- Scalable to very large datasets.\n",
    "- More flexible and general than CNNs.\n",
    "- Can model long-range dependencies better.\n",
    "\n",
    "## Limitations\n",
    "\n",
    "- Needs **a lot of data** to outperform CNNs.\n",
    "- Lacks some inductive biases (e.g., translation equivariance, locality).\n",
    "\n",
    "---\n",
    "\n",
    "## References\n",
    "\n",
    "- [ViT Paper - \"An Image is Worth 16x16 Words\"](https://arxiv.org/abs/2010.11929)"
   ]
  },
  {
   "cell_type": "markdown",
   "metadata": {},
   "source": [
    "# Patcher\n",
    "\n",
    "The `Patcher` class is responsible for dividing the input image into smaller patches. Each patch is then flattened into a vector."
   ]
  },
  {
   "cell_type": "code",
   "execution_count": 90,
   "metadata": {},
   "outputs": [],
   "source": [
    "class Patcher(nn.Module):\n",
    "    def __init__(self, height=28, width=28, patch_size=16, embed_dim=512):\n",
    "        super().__init__()\n",
    "        self.patch_size = patch_size\n",
    "        self.num_patches = (height // patch_size) * (width // patch_size)\n",
    "        self.embed_dim = embed_dim\n",
    "\n",
    "    def forward(self, x: Tensor):\n",
    "        # Batch size, Num patches, Flatten features\n",
    "        patches = rearrange(x, 'b c (h p1) (w p2) -> b (h w) (p1 p2 c)', p1=self.patch_size, p2=self.patch_size)\n",
    "        return patches"
   ]
  },
  {
   "cell_type": "markdown",
   "metadata": {},
   "source": [
    "# LinearProjectionFlatten\n",
    "\n",
    "The `LinearProjectionFlatten` class takes the patches created by the `Patcher` and projects them into a higher-dimensional space using a linear layer."
   ]
  },
  {
   "cell_type": "code",
   "execution_count": 91,
   "metadata": {},
   "outputs": [],
   "source": [
    "class LinearProjectionFlatten(nn.Module):\n",
    "    def __init__(self, patcher: Patcher, num_channels=3):\n",
    "        super().__init__()\n",
    "        self.patcher: Patcher = patcher\n",
    "        self.patch_embedding = nn.Linear(num_channels * patcher.patch_size ** 2, patcher.embed_dim)\n",
    "\n",
    "    def forward(self, x: Tensor):\n",
    "        patches = self.patcher(x)\n",
    "        embedded_patches = self.patch_embedding(patches)\n",
    "        return embedded_patches"
   ]
  },
  {
   "cell_type": "markdown",
   "metadata": {},
   "source": [
    "# CLSAdder\n",
    "\n",
    "The `CLSAdder` class is responsible for:\n",
    "\n",
    "1. **Adding a `[CLS]` token** to the beginning of the sequence of patch embeddings.\n",
    "2. **Adding positional embeddings** to retain spatial information."
   ]
  },
  {
   "cell_type": "code",
   "execution_count": 92,
   "metadata": {},
   "outputs": [],
   "source": [
    "class CLSAdder(nn.Module):\n",
    "    def __init__(self, num_patches, embed_dim=512):\n",
    "        super().__init__()\n",
    "\n",
    "        self.cls_token = nn.Parameter(torch.randn((1, 1, embed_dim)))\n",
    "        self.positional_token = nn.Parameter(torch.randn((1, num_patches + 1, embed_dim)))\n",
    "\n",
    "    def forward(self, x: Tensor):\n",
    "        batch_size, num_patches, embed_dim = x.size()\n",
    "\n",
    "        cls_token = self.cls_token.expand(batch_size, -1, -1)\n",
    "\n",
    "        x = torch.cat((cls_token, x), dim=1)\n",
    "        x += self.positional_token\n",
    "        return x"
   ]
  },
  {
   "cell_type": "markdown",
   "metadata": {},
   "source": [
    "# SelfAttention\n",
    "\n",
    "The `SelfAttention` class implements the self-attention mechanism, which allows the model to focus on different parts of the input sequence."
   ]
  },
  {
   "cell_type": "code",
   "execution_count": 93,
   "metadata": {},
   "outputs": [],
   "source": [
    "class SelfAttention(nn.Module):\n",
    "    def __init__(self):\n",
    "        super().__init__()\n",
    "\n",
    "    def calculate_QKT(self, queries: Tensor, keys: Tensor):\n",
    "        return torch.bmm(queries, keys.transpose(1, 2)) / np.sqrt(queries.shape[-1])\n",
    " \n",
    "    def forward(self, queries: Tensor, keys: Tensor, values: Tensor, \n",
    "                batch_size: int, seq_len: int, embed_dim: int, n_head: int):\n",
    "        \n",
    "        keys = keys.transpose(1, 2).contiguous().view(batch_size * n_head, seq_len, embed_dim)\n",
    "        queries = queries.transpose(1, 2).contiguous().view(batch_size * n_head, seq_len, embed_dim)\n",
    "        values = values.transpose(1, 2).contiguous().view(batch_size * n_head, seq_len, embed_dim)\n",
    "\n",
    "        QKT = self.calculate_QKT(queries, keys)\n",
    "        scores = F.softmax(QKT, dim=2)\n",
    "        attention: Tensor = torch.bmm(scores, values).view(batch_size, n_head, seq_len, embed_dim)\n",
    "        attention = attention.transpose(1, 2).contiguous().view(batch_size, seq_len, embed_dim * n_head)\n",
    "        return attention"
   ]
  },
  {
   "cell_type": "markdown",
   "metadata": {},
   "source": [
    "# AttentionBlock\n",
    "\n",
    "The `AttentionBlock` class combines the self-attention mechanism with linear projections to form a complete attention block."
   ]
  },
  {
   "cell_type": "code",
   "execution_count": 94,
   "metadata": {},
   "outputs": [],
   "source": [
    "class AttentionBlock(nn.Module):\n",
    "    def __init__(self, embed_dim=512, n_head=8):\n",
    "        super().__init__()\n",
    "        self.embed_dim = embed_dim\n",
    "        self.n_head = n_head\n",
    "\n",
    "        # W for queries\n",
    "        self.Wq = nn.Linear(embed_dim, embed_dim * n_head, bias=False)\n",
    "        # W for keys\n",
    "        self.Wk = nn.Linear(embed_dim, embed_dim * n_head, bias=False)\n",
    "        # W for values\n",
    "        self.Wv = nn.Linear(embed_dim, embed_dim * n_head, bias=False)\n",
    "        # W for final results\n",
    "        self.Wr = nn.Linear(embed_dim * n_head, embed_dim)\n",
    "\n",
    "        self.attention = SelfAttention()\n",
    "\n",
    "    def forward(self, x: Tensor):\n",
    "        n_head = self.n_head\n",
    "        batch_size, seq_len, embed_dim = x.size()\n",
    "\n",
    "        queries = self.Wq(x).view(batch_size, seq_len, n_head, embed_dim)\n",
    "        keys = self.Wk(x).view(batch_size, seq_len, n_head, embed_dim)\n",
    "        values = self.Wv(x).view(batch_size, seq_len, n_head, embed_dim)\n",
    "\n",
    "        result = self.attention(queries, keys, values, batch_size,\n",
    "                                seq_len, embed_dim, n_head)\n",
    "        \n",
    "        return self.Wr(result)"
   ]
  },
  {
   "cell_type": "markdown",
   "metadata": {},
   "source": [
    "# TransformerEncoder\n",
    "\n",
    "The `TransformerEncoder` class stacks multiple attention blocks and adds normalization and feed-forward layers."
   ]
  },
  {
   "cell_type": "code",
   "execution_count": 95,
   "metadata": {},
   "outputs": [],
   "source": [
    "class TransformerEncoder(nn.Module):\n",
    "    def __init__(self, embed_dim=512, n_head=8):\n",
    "        super().__init__()\n",
    "\n",
    "        self.attention = AttentionBlock(embed_dim, n_head)\n",
    "\n",
    "        self.norm1 = nn.LayerNorm(embed_dim)\n",
    "        self.norm2 = nn.LayerNorm(embed_dim)\n",
    "\n",
    "        hidden_size = embed_dim * 2\n",
    "        self.mlp = nn.Sequential(\n",
    "            nn.Linear(embed_dim, hidden_size),\n",
    "            nn.ReLU(),\n",
    "            nn.Linear(hidden_size, embed_dim)\n",
    "        )\n",
    "\n",
    "    def forward(self, x: Tensor):\n",
    "        sc = self.attention(x) # First skip connection\n",
    "        x = self.norm1(x + sc)\n",
    "        sc = self.mlp(x)\n",
    "        out = self.norm2(x + sc) # Second skip connection\n",
    "        return out"
   ]
  },
  {
   "cell_type": "markdown",
   "metadata": {},
   "source": [
    "# MLPHead\n",
    "\n",
    "The `MLPHead` class is a simple feed-forward network that produces the final classification logits."
   ]
  },
  {
   "cell_type": "code",
   "execution_count": 105,
   "metadata": {},
   "outputs": [],
   "source": [
    "class MLPHead(nn.Module):\n",
    "    def __init__(self, n_classes, embed_dim=512):\n",
    "        super().__init__()\n",
    "\n",
    "        self.layers = nn.Sequential(\n",
    "            nn.Linear(embed_dim, n_classes)\n",
    "        )\n",
    "\n",
    "    def forward(self, x: Tensor):\n",
    "        cls_token = x[:, 0, :]  # Only use [CLS] token\n",
    "        logits = self.layers(cls_token)\n",
    "        return logits"
   ]
  },
  {
   "cell_type": "markdown",
   "metadata": {},
   "source": [
    "# VisionTransformer\n",
    "\n",
    "The `VisionTransformer` class combines all the components to form the complete Vision Transformer model."
   ]
  },
  {
   "cell_type": "code",
   "execution_count": 106,
   "metadata": {},
   "outputs": [],
   "source": [
    "class VisionTransformer(nn.Module):\n",
    "    def __init__(self, n_classes, height=28, width=28, patch_size=16, n_head=8, embed_dim=512, num_channels=3, n_transformers=6):\n",
    "        super().__init__()\n",
    "\n",
    "        patcher = Patcher(height, width, patch_size, embed_dim)\n",
    "        self.linear_projection = LinearProjectionFlatten(patcher, num_channels)\n",
    "        self.positional_embedding = CLSAdder(patcher.num_patches, embed_dim)\n",
    "\n",
    "        transformer_encoders = [TransformerEncoder(embed_dim, n_head) for _ in range(n_transformers)]\n",
    "        self.transformers = nn.Sequential(*transformer_encoders)\n",
    "\n",
    "        self.mlp_head = MLPHead(n_classes, embed_dim)\n",
    "\n",
    "    def forward(self, x: Tensor):\n",
    "        flatten = self.linear_projection(x)\n",
    "        \n",
    "        positional_encoded = self.positional_embedding(flatten)\n",
    "\n",
    "        transform = self.transformers(positional_encoded)\n",
    "        return self.mlp_head(transform)"
   ]
  },
  {
   "cell_type": "markdown",
   "metadata": {},
   "source": [
    "### Set device"
   ]
  },
  {
   "cell_type": "code",
   "execution_count": 107,
   "metadata": {},
   "outputs": [
    {
     "data": {
      "text/plain": [
       "'cuda'"
      ]
     },
     "execution_count": 107,
     "metadata": {},
     "output_type": "execute_result"
    }
   ],
   "source": [
    "device = 'cuda' if torch.cuda.is_available() else 'cpu'\n",
    "device"
   ]
  },
  {
   "cell_type": "markdown",
   "metadata": {},
   "source": [
    "## Training the Model\n",
    "\n",
    "The model is trained on the CIFAR-10 dataset for 10 epochs using the Adam optimizer and cross-entropy loss."
   ]
  },
  {
   "cell_type": "code",
   "execution_count": 108,
   "metadata": {},
   "outputs": [
    {
     "name": "stderr",
     "output_type": "stream",
     "text": [
      "  5%|▌         | 1/20 [00:20<06:23, 20.16s/it]"
     ]
    },
    {
     "name": "stdout",
     "output_type": "stream",
     "text": [
      "Epoch 1, Train Loss: 1.9096, Test Loss: 0.0074\n"
     ]
    },
    {
     "name": "stderr",
     "output_type": "stream",
     "text": [
      " 10%|█         | 2/20 [00:41<06:11, 20.66s/it]"
     ]
    },
    {
     "name": "stdout",
     "output_type": "stream",
     "text": [
      "Epoch 2, Train Loss: 1.6273, Test Loss: 0.0071\n"
     ]
    },
    {
     "name": "stderr",
     "output_type": "stream",
     "text": [
      " 15%|█▌        | 3/20 [01:02<05:59, 21.15s/it]"
     ]
    },
    {
     "name": "stdout",
     "output_type": "stream",
     "text": [
      "Epoch 3, Train Loss: 1.4967, Test Loss: 0.0090\n"
     ]
    },
    {
     "name": "stderr",
     "output_type": "stream",
     "text": [
      " 20%|██        | 4/20 [01:26<05:51, 21.97s/it]"
     ]
    },
    {
     "name": "stdout",
     "output_type": "stream",
     "text": [
      "Epoch 4, Train Loss: 1.4066, Test Loss: 0.0064\n"
     ]
    },
    {
     "name": "stderr",
     "output_type": "stream",
     "text": [
      " 25%|██▌       | 5/20 [01:49<05:35, 22.35s/it]"
     ]
    },
    {
     "name": "stdout",
     "output_type": "stream",
     "text": [
      "Epoch 5, Train Loss: 1.3349, Test Loss: 0.0062\n"
     ]
    },
    {
     "name": "stderr",
     "output_type": "stream",
     "text": [
      " 30%|███       | 6/20 [02:10<05:09, 22.13s/it]"
     ]
    },
    {
     "name": "stdout",
     "output_type": "stream",
     "text": [
      "Epoch 6, Train Loss: 1.2752, Test Loss: 0.0054\n"
     ]
    },
    {
     "name": "stderr",
     "output_type": "stream",
     "text": [
      " 35%|███▌      | 7/20 [02:33<04:48, 22.21s/it]"
     ]
    },
    {
     "name": "stdout",
     "output_type": "stream",
     "text": [
      "Epoch 7, Train Loss: 1.2222, Test Loss: 0.0057\n"
     ]
    },
    {
     "name": "stderr",
     "output_type": "stream",
     "text": [
      " 40%|████      | 8/20 [02:55<04:26, 22.24s/it]"
     ]
    },
    {
     "name": "stdout",
     "output_type": "stream",
     "text": [
      "Epoch 8, Train Loss: 1.1836, Test Loss: 0.0070\n"
     ]
    },
    {
     "name": "stderr",
     "output_type": "stream",
     "text": [
      " 45%|████▌     | 9/20 [03:20<04:12, 22.95s/it]"
     ]
    },
    {
     "name": "stdout",
     "output_type": "stream",
     "text": [
      "Epoch 9, Train Loss: 1.1307, Test Loss: 0.0062\n"
     ]
    },
    {
     "name": "stderr",
     "output_type": "stream",
     "text": [
      " 50%|█████     | 10/20 [03:44<03:53, 23.34s/it]"
     ]
    },
    {
     "name": "stdout",
     "output_type": "stream",
     "text": [
      "Epoch 10, Train Loss: 1.0936, Test Loss: 0.0068\n"
     ]
    },
    {
     "name": "stderr",
     "output_type": "stream",
     "text": [
      " 55%|█████▌    | 11/20 [04:06<03:26, 22.90s/it]"
     ]
    },
    {
     "name": "stdout",
     "output_type": "stream",
     "text": [
      "Epoch 11, Train Loss: 1.0583, Test Loss: 0.0061\n"
     ]
    },
    {
     "name": "stderr",
     "output_type": "stream",
     "text": [
      " 60%|██████    | 12/20 [04:28<03:00, 22.62s/it]"
     ]
    },
    {
     "name": "stdout",
     "output_type": "stream",
     "text": [
      "Epoch 12, Train Loss: 1.0269, Test Loss: 0.0066\n"
     ]
    },
    {
     "name": "stderr",
     "output_type": "stream",
     "text": [
      " 65%|██████▌   | 13/20 [04:51<02:38, 22.70s/it]"
     ]
    },
    {
     "name": "stdout",
     "output_type": "stream",
     "text": [
      "Epoch 13, Train Loss: 0.9811, Test Loss: 0.0044\n"
     ]
    },
    {
     "name": "stderr",
     "output_type": "stream",
     "text": [
      " 70%|███████   | 14/20 [05:14<02:18, 23.07s/it]"
     ]
    },
    {
     "name": "stdout",
     "output_type": "stream",
     "text": [
      "Epoch 14, Train Loss: 0.9470, Test Loss: 0.0083\n"
     ]
    },
    {
     "name": "stderr",
     "output_type": "stream",
     "text": [
      " 75%|███████▌  | 15/20 [05:38<01:56, 23.30s/it]"
     ]
    },
    {
     "name": "stdout",
     "output_type": "stream",
     "text": [
      "Epoch 15, Train Loss: 0.9200, Test Loss: 0.0084\n"
     ]
    },
    {
     "name": "stderr",
     "output_type": "stream",
     "text": [
      " 80%|████████  | 16/20 [06:02<01:34, 23.52s/it]"
     ]
    },
    {
     "name": "stdout",
     "output_type": "stream",
     "text": [
      "Epoch 16, Train Loss: 0.8841, Test Loss: 0.0054\n"
     ]
    },
    {
     "name": "stderr",
     "output_type": "stream",
     "text": [
      " 85%|████████▌ | 17/20 [06:26<01:10, 23.43s/it]"
     ]
    },
    {
     "name": "stdout",
     "output_type": "stream",
     "text": [
      "Epoch 17, Train Loss: 0.8518, Test Loss: 0.0088\n"
     ]
    },
    {
     "name": "stderr",
     "output_type": "stream",
     "text": [
      " 90%|█████████ | 18/20 [06:49<00:46, 23.50s/it]"
     ]
    },
    {
     "name": "stdout",
     "output_type": "stream",
     "text": [
      "Epoch 18, Train Loss: 0.8186, Test Loss: 0.0045\n"
     ]
    },
    {
     "name": "stderr",
     "output_type": "stream",
     "text": [
      " 95%|█████████▌| 19/20 [07:13<00:23, 23.49s/it]"
     ]
    },
    {
     "name": "stdout",
     "output_type": "stream",
     "text": [
      "Epoch 19, Train Loss: 0.7818, Test Loss: 0.0074\n"
     ]
    },
    {
     "name": "stderr",
     "output_type": "stream",
     "text": [
      "100%|██████████| 20/20 [07:36<00:00, 22.80s/it]"
     ]
    },
    {
     "name": "stdout",
     "output_type": "stream",
     "text": [
      "Epoch 20, Train Loss: 0.7617, Test Loss: 0.0071\n"
     ]
    },
    {
     "name": "stderr",
     "output_type": "stream",
     "text": [
      "\n"
     ]
    }
   ],
   "source": [
    "model = VisionTransformer(n_classes=10, height=32, width=32, patch_size=4, n_head=4,\n",
    "                        embed_dim=100, num_channels=3, n_transformers=3).to(device)\n",
    "loss_fn = nn.CrossEntropyLoss()\n",
    "optimizer = torch.optim.Adam(model.parameters(), lr=1e-3)\n",
    "\n",
    "epochs = 20\n",
    "\n",
    "train_losses = []\n",
    "test_losses = []\n",
    "\n",
    "for epoch in tqdm(range(epochs)):  \n",
    "    num_batches = len(train_dataloader)\n",
    "\n",
    "    epoch_loss_train = 0\n",
    "    model.train()\n",
    "\n",
    "    for img, label in train_dataloader:\n",
    "        img: Tensor = img.to(device)\n",
    "        label: Tensor = label.to(device)\n",
    "\n",
    "        logits: Tensor = model(img)\n",
    "        loss: Tensor = loss_fn(logits, label)\n",
    "\n",
    "        loss.backward()\n",
    "        optimizer.step()\n",
    "        optimizer.zero_grad()\n",
    "\n",
    "        epoch_loss_train += loss.item()\n",
    "\n",
    "    # Using test dataset as validation dataset\n",
    "    epoch_loss_test = 0\n",
    "\n",
    "    model.eval()\n",
    "    with torch.no_grad():\n",
    "        for img, label in test_dataloader:\n",
    "            img: Tensor = img.to(device)\n",
    "            label: Tensor = label.to(device)\n",
    "\n",
    "            logits: Tensor = model(img)\n",
    "            loss: Tensor = loss_fn(logits, label)\n",
    "\n",
    "            epoch_loss_test = loss.item()\n",
    "\n",
    "    epoch_loss_train /= num_batches\n",
    "    epoch_loss_test /= num_batches\n",
    "    train_losses.append(epoch_loss_train)\n",
    "    test_losses.append(epoch_loss_test)\n",
    "\n",
    "    print(f\"Epoch {epoch+1}, Train Loss: {epoch_loss_train:.4f}, Test Loss: {epoch_loss_test:.4f}\")"
   ]
  },
  {
   "cell_type": "code",
   "execution_count": 109,
   "metadata": {},
   "outputs": [
    {
     "data": {
      "image/png": "[encoded data removed]",
      "text/plain": [
       "<Figure size 640x480 with 1 Axes>"
      ]
     },
     "metadata": {},
     "output_type": "display_data"
    }
   ],
   "source": [
    "plt.plot(range(1, len(range(epochs)) + 1), train_losses, label='train', color='blue')\n",
    "plt.plot(range(1, len(range(epochs)) + 1), test_losses, label='test', color='orange')\n",
    "plt.legend()\n",
    "plt.title('Loss for epoch')\n",
    "plt.xticks(range(1, epochs + 1))\n",
    "plt.xlabel('epochs')\n",
    "plt.ylabel('loss')\n",
    "plt.show()"
   ]
  }
 ],
 "metadata": {
  "kernelspec": {
   "display_name": "GLOBAL",
   "language": "python",
   "name": "global"
  },
  "language_info": {
   "codemirror_mode": {
    "name": "ipython",
    "version": 3
   },
   "file_extension": ".py",
   "mimetype": "text/x-python",
   "name": "python",
   "nbconvert_exporter": "python",
   "pygments_lexer": "ipython3",
   "version": "3.12.3"
  }
 },
 "nbformat": 4,
 "nbformat_minor": 2
}
